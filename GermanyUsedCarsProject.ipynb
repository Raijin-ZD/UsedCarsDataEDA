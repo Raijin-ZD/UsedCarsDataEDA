{
  "nbformat": 4,
  "nbformat_minor": 0,
  "metadata": {
    "colab": {
      "provenance": [],
      "collapsed_sections": [
        "9OLpXLCaTSx8"
      ],
      "include_colab_link": true
    },
    "kernelspec": {
      "name": "python3",
      "display_name": "Python 3"
    },
    "language_info": {
      "name": "python"
    }
  },
  "cells": [
    {
      "cell_type": "markdown",
      "metadata": {
        "id": "view-in-github",
        "colab_type": "text"
      },
      "source": [
        "<a href=\"https://colab.research.google.com/github/Raijin-ZD/UsedCarsDataEDA/blob/main/GermanyUsedCarsProject.ipynb\" target=\"_parent\"><img src=\"https://colab.research.google.com/assets/colab-badge.svg\" alt=\"Open In Colab\"/></a>"
      ]
    },
    {
      "cell_type": "markdown",
      "source": [
        "**Name** : Ziad Mohamed Shafik\n",
        "\n",
        "**Id** : 7036334\n",
        "\n",
        "**tut**: 1"
      ],
      "metadata": {
        "id": "RbjBKb_Rzz8S"
      }
    },
    {
      "cell_type": "markdown",
      "source": [
        "# Dataset Overview\n",
        "\n",
        "## Columns:\n",
        "\n",
        "1. **brand:** The brand of the used car.\n",
        "2. **model:** The model of the used car.\n",
        "3. **color:** The color of the used car.\n",
        "4. **registration_date:** The date when the car was initially registered.\n",
        "5. **year:** The manufacturing year of the car.\n",
        "6. **price_in_euro:** The price of the used car in euros.\n",
        "7. **power_kw:** The power of the car in kilowatts.\n",
        "8. **power_ps:** The power of the car in horsepower.\n",
        "9. **transmission_type:** The type of transmission (e.g., automatic, manual).\n",
        "10. **fuel_type:** The type of fuel used by the car.\n",
        "11. **fuel_consumption_l_100km:** Fuel consumption in liters per 100 kilometers.\n",
        "12. **fuel_consumption_g_km:** Fuel consumption in grams per kilometer.\n",
        "13. **mileage_in_km:** The total distance the car has traveled in kilometers.\n",
        "14. **offer_description:** Description of the car offer.\n",
        "\n",
        "## Summary:\n",
        "\n",
        "- The dataset provides information about used cars, including details about their make, model, color, registration date, manufacturing year, price, power, transmission type, fuel type, fuel consumption, mileage, and offer description.\n",
        "\n",
        "- Key numerical features include `year`, `price_in_euro`, `power_kw`, `power_ps`, `fuel_consumption_l_100km`, `fuel_consumption_g_km`, and `mileage_in_km`.\n",
        "\n",
        "- Categorical features include `brand`, `model`, `color`, `transmission_type`, `fuel_type`.\n",
        "\n",
        "- The dataset appears to be comprehensive, covering various aspects relevant to the analysis of used cars in Germany.\n",
        "\n",
        "- Further exploration and cleaning may be required to ensure the accuracy and usability of the data for the intended analysis.\n"
      ],
      "metadata": {
        "id": "qErEM76I3lMv"
      }
    },
    {
      "cell_type": "markdown",
      "source": [
        "# Project Overview: Analysis of Used Cars Dataset in Germany\n",
        "\n",
        "**Introduction**\n",
        "\n",
        "The project focuses on the exploration and analysis of a dataset containing information about used cars in Germany. The primary objectives include data cleaning, organization, and the extraction of valuable insights to enhance our understanding of the used car market in this region. This document provides an overview of the project goals and the motivation behind this analytical endeavor.\n",
        "\n",
        "**Project Goals**\n",
        "\n",
        "The overarching goals of this project can be summarized as follows:\n",
        "\n",
        "1. *Data Cleaning and Organization:* Implement rigorous data cleaning techniques to ensure the dataset's integrity and reliability. Organize the information in a structured manner for efficient analysis.\n",
        "\n",
        "2. *Insightful Data Exploration:* Conduct thorough exploratory data analysis to identify patterns, trends, and anomalies within the dataset. Formulate and answer specific research questions to extract meaningful insights.\n",
        "\n",
        "3. *Research Question Formulation:* Develop pertinent research questions that address key aspects of the used car market in Germany. These questions serve as a guide for focused analysis and interpretation of the dataset.\n",
        "\n",
        "4. *Visual Representation:* Utilize data visualization techniques to represent key findings in a clear and comprehensible manner. Visualizations enhance the interpretability of complex patterns within the dataset.\n",
        "\n",
        "**Motivation**\n",
        "\n",
        "The motivation behind this project stems from the significance of the used car market in Germany and the potential insights that can be extracted from a comprehensive analysis of the available dataset. Understanding the factors influencing pricing, demand, and other key metrics in this market can be invaluable for various stakeholders, including buyers, sellers, and policymakers.\n",
        "\n",
        "Additionally, by addressing specific research questions, we aim to contribute to the existing body of knowledge surrounding the used car industry, enabling more informed decision-making and strategic planning.\n",
        "\n",
        "Through meticulous data cleaning, organization, and exploratory analysis, this project strives to uncover hidden patterns and trends that may not be immediately apparent, providing a nuanced understanding of the dynamics at play in the German used car market.\n"
      ],
      "metadata": {
        "id": "dVTtV2Xn03fI"
      }
    },
    {
      "cell_type": "markdown",
      "source": [
        "**DATA PREPROCESSING**"
      ],
      "metadata": {
        "id": "6NoWoKlr35nI"
      }
    },
    {
      "cell_type": "code",
      "execution_count": null,
      "metadata": {
        "id": "IEa4DSLizdW4"
      },
      "outputs": [],
      "source": [
        "import matplotlib.pyplot as plt\n",
        "import numpy as np\n",
        "import pandas as pd\n",
        "import seaborn as sns\n",
        "import datetime\n",
        "from sklearn.preprocessing import LabelEncoder\n",
        "from scipy.stats import zscore\n",
        "from scipy import stats\n"
      ]
    },
    {
      "cell_type": "code",
      "source": [
        "\n",
        "data = pd.read_csv(\"/content/data.csv\")\n"
      ],
      "metadata": {
        "id": "LYON88hB2HJq"
      },
      "execution_count": null,
      "outputs": []
    },
    {
      "cell_type": "code",
      "source": [
        "data.head(5)"
      ],
      "metadata": {
        "colab": {
          "base_uri": "https://localhost:8080/",
          "height": 397
        },
        "id": "pw5bBq4r2QGd",
        "outputId": "7d6fa906-026c-4d71-d1eb-c97b1c605668"
      },
      "execution_count": null,
      "outputs": [
        {
          "output_type": "execute_result",
          "data": {
            "text/plain": [
              "   Unnamed: 0       brand              model  color registration_date  year  \\\n",
              "0           0  alfa-romeo     Alfa Romeo GTV    red           10/1995  1995   \n",
              "1           1  alfa-romeo     Alfa Romeo 164  black           02/1995  1995   \n",
              "2           2  alfa-romeo  Alfa Romeo Spider  black           02/1995  1995   \n",
              "3           3  alfa-romeo  Alfa Romeo Spider  black           07/1995  1995   \n",
              "4           4  alfa-romeo     Alfa Romeo 164    red           11/1996  1996   \n",
              "\n",
              "  price_in_euro power_kw power_ps transmission_type fuel_type  \\\n",
              "0          1300      148      201            Manual    Petrol   \n",
              "1         24900      191      260            Manual    Petrol   \n",
              "2          5900      110      150           Unknown    Petrol   \n",
              "3          4900      110      150            Manual    Petrol   \n",
              "4         17950      132      179            Manual    Petrol   \n",
              "\n",
              "  fuel_consumption_l_100km fuel_consumption_g_km  mileage_in_km  \\\n",
              "0            10,9 l/100 km              260 g/km       160500.0   \n",
              "1                      NaN              - (g/km)       190000.0   \n",
              "2                      NaN              - (g/km)       129000.0   \n",
              "3             9,5 l/100 km              225 g/km       189500.0   \n",
              "4             7,2 l/100 km              - (g/km)        96127.0   \n",
              "\n",
              "                       offer_description  \n",
              "0                              2.0 V6 TB  \n",
              "1                    Q4 Allrad, 3.2L GTA  \n",
              "2                          ALFA ROME 916  \n",
              "3                   2.0 16V Twin Spark L  \n",
              "4  3.0i Super V6, absoluter Topzustand !  "
            ],
            "text/html": [
              "\n",
              "  <div id=\"df-1084e56f-1066-409c-a43f-868fa3a30f87\" class=\"colab-df-container\">\n",
              "    <div>\n",
              "<style scoped>\n",
              "    .dataframe tbody tr th:only-of-type {\n",
              "        vertical-align: middle;\n",
              "    }\n",
              "\n",
              "    .dataframe tbody tr th {\n",
              "        vertical-align: top;\n",
              "    }\n",
              "\n",
              "    .dataframe thead th {\n",
              "        text-align: right;\n",
              "    }\n",
              "</style>\n",
              "<table border=\"1\" class=\"dataframe\">\n",
              "  <thead>\n",
              "    <tr style=\"text-align: right;\">\n",
              "      <th></th>\n",
              "      <th>Unnamed: 0</th>\n",
              "      <th>brand</th>\n",
              "      <th>model</th>\n",
              "      <th>color</th>\n",
              "      <th>registration_date</th>\n",
              "      <th>year</th>\n",
              "      <th>price_in_euro</th>\n",
              "      <th>power_kw</th>\n",
              "      <th>power_ps</th>\n",
              "      <th>transmission_type</th>\n",
              "      <th>fuel_type</th>\n",
              "      <th>fuel_consumption_l_100km</th>\n",
              "      <th>fuel_consumption_g_km</th>\n",
              "      <th>mileage_in_km</th>\n",
              "      <th>offer_description</th>\n",
              "    </tr>\n",
              "  </thead>\n",
              "  <tbody>\n",
              "    <tr>\n",
              "      <th>0</th>\n",
              "      <td>0</td>\n",
              "      <td>alfa-romeo</td>\n",
              "      <td>Alfa Romeo GTV</td>\n",
              "      <td>red</td>\n",
              "      <td>10/1995</td>\n",
              "      <td>1995</td>\n",
              "      <td>1300</td>\n",
              "      <td>148</td>\n",
              "      <td>201</td>\n",
              "      <td>Manual</td>\n",
              "      <td>Petrol</td>\n",
              "      <td>10,9 l/100 km</td>\n",
              "      <td>260 g/km</td>\n",
              "      <td>160500.0</td>\n",
              "      <td>2.0 V6 TB</td>\n",
              "    </tr>\n",
              "    <tr>\n",
              "      <th>1</th>\n",
              "      <td>1</td>\n",
              "      <td>alfa-romeo</td>\n",
              "      <td>Alfa Romeo 164</td>\n",
              "      <td>black</td>\n",
              "      <td>02/1995</td>\n",
              "      <td>1995</td>\n",
              "      <td>24900</td>\n",
              "      <td>191</td>\n",
              "      <td>260</td>\n",
              "      <td>Manual</td>\n",
              "      <td>Petrol</td>\n",
              "      <td>NaN</td>\n",
              "      <td>- (g/km)</td>\n",
              "      <td>190000.0</td>\n",
              "      <td>Q4 Allrad, 3.2L GTA</td>\n",
              "    </tr>\n",
              "    <tr>\n",
              "      <th>2</th>\n",
              "      <td>2</td>\n",
              "      <td>alfa-romeo</td>\n",
              "      <td>Alfa Romeo Spider</td>\n",
              "      <td>black</td>\n",
              "      <td>02/1995</td>\n",
              "      <td>1995</td>\n",
              "      <td>5900</td>\n",
              "      <td>110</td>\n",
              "      <td>150</td>\n",
              "      <td>Unknown</td>\n",
              "      <td>Petrol</td>\n",
              "      <td>NaN</td>\n",
              "      <td>- (g/km)</td>\n",
              "      <td>129000.0</td>\n",
              "      <td>ALFA ROME 916</td>\n",
              "    </tr>\n",
              "    <tr>\n",
              "      <th>3</th>\n",
              "      <td>3</td>\n",
              "      <td>alfa-romeo</td>\n",
              "      <td>Alfa Romeo Spider</td>\n",
              "      <td>black</td>\n",
              "      <td>07/1995</td>\n",
              "      <td>1995</td>\n",
              "      <td>4900</td>\n",
              "      <td>110</td>\n",
              "      <td>150</td>\n",
              "      <td>Manual</td>\n",
              "      <td>Petrol</td>\n",
              "      <td>9,5 l/100 km</td>\n",
              "      <td>225 g/km</td>\n",
              "      <td>189500.0</td>\n",
              "      <td>2.0 16V Twin Spark L</td>\n",
              "    </tr>\n",
              "    <tr>\n",
              "      <th>4</th>\n",
              "      <td>4</td>\n",
              "      <td>alfa-romeo</td>\n",
              "      <td>Alfa Romeo 164</td>\n",
              "      <td>red</td>\n",
              "      <td>11/1996</td>\n",
              "      <td>1996</td>\n",
              "      <td>17950</td>\n",
              "      <td>132</td>\n",
              "      <td>179</td>\n",
              "      <td>Manual</td>\n",
              "      <td>Petrol</td>\n",
              "      <td>7,2 l/100 km</td>\n",
              "      <td>- (g/km)</td>\n",
              "      <td>96127.0</td>\n",
              "      <td>3.0i Super V6, absoluter Topzustand !</td>\n",
              "    </tr>\n",
              "  </tbody>\n",
              "</table>\n",
              "</div>\n",
              "    <div class=\"colab-df-buttons\">\n",
              "\n",
              "  <div class=\"colab-df-container\">\n",
              "    <button class=\"colab-df-convert\" onclick=\"convertToInteractive('df-1084e56f-1066-409c-a43f-868fa3a30f87')\"\n",
              "            title=\"Convert this dataframe to an interactive table.\"\n",
              "            style=\"display:none;\">\n",
              "\n",
              "  <svg xmlns=\"http://www.w3.org/2000/svg\" height=\"24px\" viewBox=\"0 -960 960 960\">\n",
              "    <path d=\"M120-120v-720h720v720H120Zm60-500h600v-160H180v160Zm220 220h160v-160H400v160Zm0 220h160v-160H400v160ZM180-400h160v-160H180v160Zm440 0h160v-160H620v160ZM180-180h160v-160H180v160Zm440 0h160v-160H620v160Z\"/>\n",
              "  </svg>\n",
              "    </button>\n",
              "\n",
              "  <style>\n",
              "    .colab-df-container {\n",
              "      display:flex;\n",
              "      gap: 12px;\n",
              "    }\n",
              "\n",
              "    .colab-df-convert {\n",
              "      background-color: #E8F0FE;\n",
              "      border: none;\n",
              "      border-radius: 50%;\n",
              "      cursor: pointer;\n",
              "      display: none;\n",
              "      fill: #1967D2;\n",
              "      height: 32px;\n",
              "      padding: 0 0 0 0;\n",
              "      width: 32px;\n",
              "    }\n",
              "\n",
              "    .colab-df-convert:hover {\n",
              "      background-color: #E2EBFA;\n",
              "      box-shadow: 0px 1px 2px rgba(60, 64, 67, 0.3), 0px 1px 3px 1px rgba(60, 64, 67, 0.15);\n",
              "      fill: #174EA6;\n",
              "    }\n",
              "\n",
              "    .colab-df-buttons div {\n",
              "      margin-bottom: 4px;\n",
              "    }\n",
              "\n",
              "    [theme=dark] .colab-df-convert {\n",
              "      background-color: #3B4455;\n",
              "      fill: #D2E3FC;\n",
              "    }\n",
              "\n",
              "    [theme=dark] .colab-df-convert:hover {\n",
              "      background-color: #434B5C;\n",
              "      box-shadow: 0px 1px 3px 1px rgba(0, 0, 0, 0.15);\n",
              "      filter: drop-shadow(0px 1px 2px rgba(0, 0, 0, 0.3));\n",
              "      fill: #FFFFFF;\n",
              "    }\n",
              "  </style>\n",
              "\n",
              "    <script>\n",
              "      const buttonEl =\n",
              "        document.querySelector('#df-1084e56f-1066-409c-a43f-868fa3a30f87 button.colab-df-convert');\n",
              "      buttonEl.style.display =\n",
              "        google.colab.kernel.accessAllowed ? 'block' : 'none';\n",
              "\n",
              "      async function convertToInteractive(key) {\n",
              "        const element = document.querySelector('#df-1084e56f-1066-409c-a43f-868fa3a30f87');\n",
              "        const dataTable =\n",
              "          await google.colab.kernel.invokeFunction('convertToInteractive',\n",
              "                                                    [key], {});\n",
              "        if (!dataTable) return;\n",
              "\n",
              "        const docLinkHtml = 'Like what you see? Visit the ' +\n",
              "          '<a target=\"_blank\" href=https://colab.research.google.com/notebooks/data_table.ipynb>data table notebook</a>'\n",
              "          + ' to learn more about interactive tables.';\n",
              "        element.innerHTML = '';\n",
              "        dataTable['output_type'] = 'display_data';\n",
              "        await google.colab.output.renderOutput(dataTable, element);\n",
              "        const docLink = document.createElement('div');\n",
              "        docLink.innerHTML = docLinkHtml;\n",
              "        element.appendChild(docLink);\n",
              "      }\n",
              "    </script>\n",
              "  </div>\n",
              "\n",
              "\n",
              "<div id=\"df-7d5df4d8-9716-4e6d-9694-94e1f03ff908\">\n",
              "  <button class=\"colab-df-quickchart\" onclick=\"quickchart('df-7d5df4d8-9716-4e6d-9694-94e1f03ff908')\"\n",
              "            title=\"Suggest charts\"\n",
              "            style=\"display:none;\">\n",
              "\n",
              "<svg xmlns=\"http://www.w3.org/2000/svg\" height=\"24px\"viewBox=\"0 0 24 24\"\n",
              "     width=\"24px\">\n",
              "    <g>\n",
              "        <path d=\"M19 3H5c-1.1 0-2 .9-2 2v14c0 1.1.9 2 2 2h14c1.1 0 2-.9 2-2V5c0-1.1-.9-2-2-2zM9 17H7v-7h2v7zm4 0h-2V7h2v10zm4 0h-2v-4h2v4z\"/>\n",
              "    </g>\n",
              "</svg>\n",
              "  </button>\n",
              "\n",
              "<style>\n",
              "  .colab-df-quickchart {\n",
              "      --bg-color: #E8F0FE;\n",
              "      --fill-color: #1967D2;\n",
              "      --hover-bg-color: #E2EBFA;\n",
              "      --hover-fill-color: #174EA6;\n",
              "      --disabled-fill-color: #AAA;\n",
              "      --disabled-bg-color: #DDD;\n",
              "  }\n",
              "\n",
              "  [theme=dark] .colab-df-quickchart {\n",
              "      --bg-color: #3B4455;\n",
              "      --fill-color: #D2E3FC;\n",
              "      --hover-bg-color: #434B5C;\n",
              "      --hover-fill-color: #FFFFFF;\n",
              "      --disabled-bg-color: #3B4455;\n",
              "      --disabled-fill-color: #666;\n",
              "  }\n",
              "\n",
              "  .colab-df-quickchart {\n",
              "    background-color: var(--bg-color);\n",
              "    border: none;\n",
              "    border-radius: 50%;\n",
              "    cursor: pointer;\n",
              "    display: none;\n",
              "    fill: var(--fill-color);\n",
              "    height: 32px;\n",
              "    padding: 0;\n",
              "    width: 32px;\n",
              "  }\n",
              "\n",
              "  .colab-df-quickchart:hover {\n",
              "    background-color: var(--hover-bg-color);\n",
              "    box-shadow: 0 1px 2px rgba(60, 64, 67, 0.3), 0 1px 3px 1px rgba(60, 64, 67, 0.15);\n",
              "    fill: var(--button-hover-fill-color);\n",
              "  }\n",
              "\n",
              "  .colab-df-quickchart-complete:disabled,\n",
              "  .colab-df-quickchart-complete:disabled:hover {\n",
              "    background-color: var(--disabled-bg-color);\n",
              "    fill: var(--disabled-fill-color);\n",
              "    box-shadow: none;\n",
              "  }\n",
              "\n",
              "  .colab-df-spinner {\n",
              "    border: 2px solid var(--fill-color);\n",
              "    border-color: transparent;\n",
              "    border-bottom-color: var(--fill-color);\n",
              "    animation:\n",
              "      spin 1s steps(1) infinite;\n",
              "  }\n",
              "\n",
              "  @keyframes spin {\n",
              "    0% {\n",
              "      border-color: transparent;\n",
              "      border-bottom-color: var(--fill-color);\n",
              "      border-left-color: var(--fill-color);\n",
              "    }\n",
              "    20% {\n",
              "      border-color: transparent;\n",
              "      border-left-color: var(--fill-color);\n",
              "      border-top-color: var(--fill-color);\n",
              "    }\n",
              "    30% {\n",
              "      border-color: transparent;\n",
              "      border-left-color: var(--fill-color);\n",
              "      border-top-color: var(--fill-color);\n",
              "      border-right-color: var(--fill-color);\n",
              "    }\n",
              "    40% {\n",
              "      border-color: transparent;\n",
              "      border-right-color: var(--fill-color);\n",
              "      border-top-color: var(--fill-color);\n",
              "    }\n",
              "    60% {\n",
              "      border-color: transparent;\n",
              "      border-right-color: var(--fill-color);\n",
              "    }\n",
              "    80% {\n",
              "      border-color: transparent;\n",
              "      border-right-color: var(--fill-color);\n",
              "      border-bottom-color: var(--fill-color);\n",
              "    }\n",
              "    90% {\n",
              "      border-color: transparent;\n",
              "      border-bottom-color: var(--fill-color);\n",
              "    }\n",
              "  }\n",
              "</style>\n",
              "\n",
              "  <script>\n",
              "    async function quickchart(key) {\n",
              "      const quickchartButtonEl =\n",
              "        document.querySelector('#' + key + ' button');\n",
              "      quickchartButtonEl.disabled = true;  // To prevent multiple clicks.\n",
              "      quickchartButtonEl.classList.add('colab-df-spinner');\n",
              "      try {\n",
              "        const charts = await google.colab.kernel.invokeFunction(\n",
              "            'suggestCharts', [key], {});\n",
              "      } catch (error) {\n",
              "        console.error('Error during call to suggestCharts:', error);\n",
              "      }\n",
              "      quickchartButtonEl.classList.remove('colab-df-spinner');\n",
              "      quickchartButtonEl.classList.add('colab-df-quickchart-complete');\n",
              "    }\n",
              "    (() => {\n",
              "      let quickchartButtonEl =\n",
              "        document.querySelector('#df-7d5df4d8-9716-4e6d-9694-94e1f03ff908 button');\n",
              "      quickchartButtonEl.style.display =\n",
              "        google.colab.kernel.accessAllowed ? 'block' : 'none';\n",
              "    })();\n",
              "  </script>\n",
              "</div>\n",
              "    </div>\n",
              "  </div>\n"
            ]
          },
          "metadata": {},
          "execution_count": 990
        }
      ]
    },
    {
      "cell_type": "code",
      "source": [
        "data.info()\n",
        "print(len(data)) #prints rows\n",
        "print(len(data.columns))#prints cols\n",
        "#251079 row"
      ],
      "metadata": {
        "colab": {
          "base_uri": "https://localhost:8080/"
        },
        "id": "52TP5pZx2SC1",
        "outputId": "d062c1af-8f24-4c21-cb05-8bed4a6bd109"
      },
      "execution_count": null,
      "outputs": [
        {
          "output_type": "stream",
          "name": "stdout",
          "text": [
            "<class 'pandas.core.frame.DataFrame'>\n",
            "RangeIndex: 251079 entries, 0 to 251078\n",
            "Data columns (total 15 columns):\n",
            " #   Column                    Non-Null Count   Dtype  \n",
            "---  ------                    --------------   -----  \n",
            " 0   Unnamed: 0                251079 non-null  int64  \n",
            " 1   brand                     251079 non-null  object \n",
            " 2   model                     251079 non-null  object \n",
            " 3   color                     250913 non-null  object \n",
            " 4   registration_date         251075 non-null  object \n",
            " 5   year                      251079 non-null  object \n",
            " 6   price_in_euro             251079 non-null  object \n",
            " 7   power_kw                  250945 non-null  object \n",
            " 8   power_ps                  250950 non-null  object \n",
            " 9   transmission_type         251079 non-null  object \n",
            " 10  fuel_type                 251079 non-null  object \n",
            " 11  fuel_consumption_l_100km  224206 non-null  object \n",
            " 12  fuel_consumption_g_km     251079 non-null  object \n",
            " 13  mileage_in_km             250927 non-null  float64\n",
            " 14  offer_description         251078 non-null  object \n",
            "dtypes: float64(1), int64(1), object(13)\n",
            "memory usage: 28.7+ MB\n",
            "251079\n",
            "15\n"
          ]
        }
      ]
    },
    {
      "cell_type": "code",
      "source": [
        "(data.isna().sum() / data.shape[0]) * 100"
      ],
      "metadata": {
        "colab": {
          "base_uri": "https://localhost:8080/"
        },
        "id": "JcwJIluO2piH",
        "outputId": "879a761c-c040-432e-95b9-421e9c087897"
      },
      "execution_count": null,
      "outputs": [
        {
          "output_type": "execute_result",
          "data": {
            "text/plain": [
              "Unnamed: 0                   0.000000\n",
              "brand                        0.000000\n",
              "model                        0.000000\n",
              "color                        0.066115\n",
              "registration_date            0.001593\n",
              "year                         0.000000\n",
              "price_in_euro                0.000000\n",
              "power_kw                     0.053370\n",
              "power_ps                     0.051378\n",
              "transmission_type            0.000000\n",
              "fuel_type                    0.000000\n",
              "fuel_consumption_l_100km    10.703006\n",
              "fuel_consumption_g_km        0.000000\n",
              "mileage_in_km                0.060539\n",
              "offer_description            0.000398\n",
              "dtype: float64"
            ]
          },
          "metadata": {},
          "execution_count": 992
        }
      ]
    },
    {
      "cell_type": "markdown",
      "source": [
        "**Trying to see if there is invalid data in the dataset**"
      ],
      "metadata": {
        "id": "egeYg5hE4pDo"
      }
    },
    {
      "cell_type": "code",
      "source": [
        "data.columns"
      ],
      "metadata": {
        "colab": {
          "base_uri": "https://localhost:8080/"
        },
        "id": "TOkwy-nvNQoT",
        "outputId": "ad5d31f2-77e8-4711-d3d4-8fc4da39b3f3"
      },
      "execution_count": null,
      "outputs": [
        {
          "output_type": "execute_result",
          "data": {
            "text/plain": [
              "Index(['Unnamed: 0', 'brand', 'model', 'color', 'registration_date', 'year',\n",
              "       'price_in_euro', 'power_kw', 'power_ps', 'transmission_type',\n",
              "       'fuel_type', 'fuel_consumption_l_100km', 'fuel_consumption_g_km',\n",
              "       'mileage_in_km', 'offer_description'],\n",
              "      dtype='object')"
            ]
          },
          "metadata": {},
          "execution_count": 993
        }
      ]
    },
    {
      "cell_type": "code",
      "source": [
        "data = data.drop('Unnamed: 0', axis=1)"
      ],
      "metadata": {
        "id": "mweBM-y6xsJb"
      },
      "execution_count": null,
      "outputs": []
    },
    {
      "cell_type": "markdown",
      "source": [
        "W = ALL VALID DATA VALUES\n",
        "\n",
        "L = NOT ALL VALID DATA VALUES"
      ],
      "metadata": {
        "id": "_o-folQE4zn9"
      }
    },
    {
      "cell_type": "code",
      "source": [
        "# W Column\n",
        "data.brand.unique()"
      ],
      "metadata": {
        "colab": {
          "base_uri": "https://localhost:8080/"
        },
        "id": "L0V45FKWfZMf",
        "outputId": "49fa7244-907f-4228-b0c9-fc2f793de7d0"
      },
      "execution_count": null,
      "outputs": [
        {
          "output_type": "execute_result",
          "data": {
            "text/plain": [
              "array(['alfa-romeo', 'aston-martin', 'audi', 'bentley', 'bmw', 'cadillac',\n",
              "       'chevrolet', 'chrysler', 'citroen', 'dacia', 'daewoo', 'daihatsu',\n",
              "       'dodge', 'ferrari', 'fiat', 'ford', 'honda', 'hyundai', 'infiniti',\n",
              "       'isuzu', 'jaguar', 'jeep', 'kia', 'lada', 'lamborghini', 'lancia',\n",
              "       'land-rover', 'maserati', 'mazda', 'mercedes-benz', 'mini',\n",
              "       'mitsubishi', 'nissan', 'opel', 'peugeot', 'porsche', 'proton',\n",
              "       'renault', 'rover', 'saab', 'seat', 'skoda', 'smart', 'ssangyong',\n",
              "       'toyota', 'volkswagen', 'volvo'], dtype=object)"
            ]
          },
          "metadata": {},
          "execution_count": 995
        }
      ]
    },
    {
      "cell_type": "code",
      "source": [
        "# W Column\n",
        "data.model.unique()"
      ],
      "metadata": {
        "colab": {
          "base_uri": "https://localhost:8080/"
        },
        "id": "-e5Ezld0L8Ur",
        "outputId": "f2139bed-0477-445a-d897-cfd75d03fc5d"
      },
      "execution_count": null,
      "outputs": [
        {
          "output_type": "execute_result",
          "data": {
            "text/plain": [
              "array(['Alfa Romeo GTV', 'Alfa Romeo 164', 'Alfa Romeo Spider', ...,\n",
              "       'Volvo XC40', 'Volvo C40', 'Volvo'], dtype=object)"
            ]
          },
          "metadata": {},
          "execution_count": 996
        }
      ]
    },
    {
      "cell_type": "code",
      "source": [
        "# L Column need to handle the nan unqiue value and missing values\n",
        "data.color.unique()"
      ],
      "metadata": {
        "colab": {
          "base_uri": "https://localhost:8080/"
        },
        "id": "MmVJ8UzhLyHf",
        "outputId": "ecb1dedb-e815-4786-c786-0db5e364e79f"
      },
      "execution_count": null,
      "outputs": [
        {
          "output_type": "execute_result",
          "data": {
            "text/plain": [
              "array(['red', 'black', 'silver', 'grey', 'white', 'beige', 'blue',\n",
              "       'green', 'yellow', 'gold', 'brown', 'bronze', 'violet', 'orange',\n",
              "       nan], dtype=object)"
            ]
          },
          "metadata": {},
          "execution_count": 997
        }
      ]
    },
    {
      "cell_type": "code",
      "source": [
        "#L Column need to handle the invalid data in the column and handle the missing values\n",
        "data.registration_date.unique()"
      ],
      "metadata": {
        "colab": {
          "base_uri": "https://localhost:8080/"
        },
        "id": "_zguRdZVMEhy",
        "outputId": "8ee9bebd-7c9a-4e03-c078-69e33bdf08c3"
      },
      "execution_count": null,
      "outputs": [
        {
          "output_type": "execute_result",
          "data": {
            "text/plain": [
              "array(['10/1995', '02/1995', '07/1995', '11/1996', '04/1996', '12/1996',\n",
              "       '07/1996', '01/1996', '02/1996', '10/1996', '05/1997', '06/1997',\n",
              "       '10/1997', '03/1997', '01/1997', '02/1997', '04/1997', '07/1997',\n",
              "       '09/1997', '07/1998', '05/1998', '01/1998', '11/1998', '09/1998',\n",
              "       '07/1999', '02/1999', '06/1999', '12/1999', '05/1999', '01/1999',\n",
              "       '04/1999', '03/1999', '10/2000', '06/2000', '05/2000', '01/2000',\n",
              "       '04/2000', '11/2000', '03/2000', '02/2000', '09/2001', '02/2001',\n",
              "       '03/2001', '01/2001', '11/2001', '12/2001', '04/2001', '05/2001',\n",
              "       '07/2001', '06/2001', '10/2002', '12/2002', '01/2002', '09/2002',\n",
              "       '11/2002', '06/2002', '03/2002', '02/2002', '05/2003', '10/2003',\n",
              "       '07/2003', '02/2003', '01/2003', '03/2003', '08/2003', '06/2003',\n",
              "       '03/2004', '02/2004', '09/2004', '04/2004', '08/2004', '01/2004',\n",
              "       '11/2004', '06/2004', '10/2004', '12/2004', '07/2004', '05/2004',\n",
              "       '10/2005', '06/2005', '07/2005', '09/2005', '01/2005', '11/2005',\n",
              "       '05/2005', '08/2005', '02/2005', '02/2006', '09/2006', '04/2006',\n",
              "       '01/2006', '08/2006', '06/2006', '11/2006', '05/2006', '07/2006',\n",
              "       '12/2006', '03/2006', '10/2006', '03/2007', '08/2007', '10/2007',\n",
              "       '06/2007', '11/2007', '09/2007', '05/2007', '07/2007', '12/2007',\n",
              "       '04/2007', '02/2008', '06/2008', '10/2008', '07/2008', '05/2008',\n",
              "       '11/2008', '08/2008', '09/2008', '12/2008', '04/2008', '01/2008',\n",
              "       '06/2009', '12/2009', '07/2009', '05/2009', '01/2009', '09/2009',\n",
              "       '03/2009', '10/2009', '11/2009', '02/2009', '04/2009', '08/2009',\n",
              "       '07/2010', '01/2010', '04/2010', '09/2010', '12/2010', '08/2010',\n",
              "       '11/2010', '03/2010', '05/2010', '10/2010', '06/2010', '10/2011',\n",
              "       '09/2011', '06/2011', '05/2011', '03/2011', '08/2011', '11/2011',\n",
              "       '04/2011', '01/2011', '12/2011', '07/2011', '02/2011', '07/2012',\n",
              "       '10/2012', '12/2012', '03/2012', '05/2012', '09/2012', '01/2012',\n",
              "       '06/2012', '02/2012', '11/2012', '08/2012', '04/2012', '10/2013',\n",
              "       '06/2013', '08/2013', '11/2013', '04/2013', '12/2013', '09/2013',\n",
              "       '03/2013', '02/2013', '05/2013', '01/2013', '08/2014', '04/2014',\n",
              "       '09/2014', '12/2014', '05/2014', '01/2014', '11/2014', '07/2014',\n",
              "       '11/2015', '06/2015', '04/2015', '12/2015', '07/2015', '03/2015',\n",
              "       '02/2015', '08/2015', '01/2015', '09/2015', '01/2016', '06/2016',\n",
              "       '11/2016', '03/2016', '09/2016', '02/2016', '08/2016', '05/2016',\n",
              "       '10/2016', '12/2016', '04/2016', '07/2016', '08/2017', '09/2017',\n",
              "       '03/2017', '05/2017', '06/2017', '10/2017', '12/2017', '07/2017',\n",
              "       '02/2017', '04/2017', '11/2017', '07/2018', '02/2018', '01/2018',\n",
              "       '03/2018', '05/2018', '06/2018', '09/2018', '10/2018', '11/2018',\n",
              "       '12/2018', '04/2018', '08/2018', '08/2019', '10/2019', '02/2019',\n",
              "       '05/2019', '03/2019', '12/2019', '09/2019', '01/2019', '04/2019',\n",
              "       '06/2019', '11/2019', '07/2019', '09/2020', '06/2020', '04/2020',\n",
              "       '12/2020', '05/2020', '10/2020', '02/2020', '11/2020', '08/2020',\n",
              "       '07/2020', '03/2020', '01/2020', '10/2021', '12/2021', '09/2021',\n",
              "       '04/2021', '02/2021', '11/2021', '07/2021', '06/2021', '08/2021',\n",
              "       '05/2021', '01/2021', '03/2021', '04/2022', '11/2022', '12/2022',\n",
              "       '06/2022', '03/2022', '10/2022', '05/2022', '01/2022', '07/2022',\n",
              "       '09/2022', '08/2022', '02/2022', '04/2023', '03/2023', '02/2023',\n",
              "       '01/2023', '05/2023', '06/2023', '03/1996', '04/2002', '03/2005',\n",
              "       '07/2013', '02/2014', '05/2015', '10/2015', '01/2017', '08/1997',\n",
              "       '12/1997', '11/1997', '06/1998', '08/1998', '10/1998', '03/1998',\n",
              "       '08/1999', '10/1999', '11/1999', '09/1999', '08/2000', '12/2000',\n",
              "       '07/2000', '09/2000', '10/2001', '08/2001', '07/2002', '08/2002',\n",
              "       '05/2002', '04/2003', '12/2003', '09/2003', '11/2003', 'Manual',\n",
              "       '12/2005', '04/2005', '8449', '01/2007', '02/2007', '03/2008',\n",
              "       '02/2010', '8999', '03/2014', '06/2014', '10/2014', '99.900 km',\n",
              "       '122.000 km', 'Automatic', '05/1995', '12/1995', '08/1995',\n",
              "       '08/1996', '05/1996', '06/1996', '02/1998', '04/1998', '12/1998',\n",
              "       '166.000 km', '1900', '2900', 'S/H', '20200', '8900', '83.600 km',\n",
              "       '06/1995', '09/1995', '151.218 km', '11/2023', '04/1995',\n",
              "       '01/1995', '09/1996', '5250', 'apple/android', '03/1995', 'Alu',\n",
              "       nan, '21.327 km', '31.000 km', '5.900 km', '35900', '07/2023',\n",
              "       '7 km', '31.525 km', '11/1995', '14950', '13490', '2500', '12900',\n",
              "       '243.000 km', 'SITZH', '196.000 km', '11200', '88.500 km',\n",
              "       '151.000 km', '35990', ' Navi', '43.000 km', '55.000 km', '25800',\n",
              "       'DAB', '36500', '1.990 km', '127.500 km', '87.265 km', '17.660 km',\n",
              "       '74.432 km', '13.500 km', '100 km', '37.500 km', '53.793 km',\n",
              "       '42380', '59.850 km', '59900', '46890', '37.100 km', 'HAL', '360°',\n",
              "       '96490', '101890', '78100', '93490', '151690', '226490', '50 km',\n",
              "       '17750', '14990', ' Totwinkela..', '34.400 km', '17390', '23889',\n",
              "       '70.865 km', '23950', '1.000 km', '45689', 'PDC', 'DCC', '33399',\n",
              "       '20949', '110.000 km', 'SH', '33890', 'Technik', '10 km',\n",
              "       '150.000 km', 'Euro 5', 'AHK', 'Tisch uvm', ' CARPLAY',\n",
              "       '18.200 km', '8.500 km'], dtype=object)"
            ]
          },
          "metadata": {},
          "execution_count": 998
        }
      ]
    },
    {
      "cell_type": "code",
      "source": [
        "#L Column need to handle the invalid data in the column and handle the missing values\n",
        "data.year.unique()"
      ],
      "metadata": {
        "colab": {
          "base_uri": "https://localhost:8080/"
        },
        "id": "qflfYYExMKfU",
        "outputId": "cbda5263-5b11-454d-83f6-8b1959345521"
      },
      "execution_count": null,
      "outputs": [
        {
          "output_type": "execute_result",
          "data": {
            "text/plain": [
              "array(['1995', '1996', '1997', '1998', '1999', '2000', '2001', '2002',\n",
              "       '2003', '2004', '2005', '2006', '2007', '2008', '2009', '2010',\n",
              "       '2011', '2012', '2013', '2014', '2015', '2016', '2017', '2018',\n",
              "       '2019', '2020', '2021', '2022', '2023', 'Petrol', 'Automatic',\n",
              "       'Manual', 'Diesel', '04/2017', 'Electric', '12/2003', '3700',\n",
              "       '05/2017', '04/2006', 'LPG', '8.000 km', '113.000 km', '32.250 km',\n",
              "       '02/2020', '06/2021', '07/2021', 'Hybrid', '03/2023', '01/2019',\n",
              "       '10/2010', '280.000 km', '03/2015', '10/2016', '06/2016',\n",
              "       '80.000 km', '06/2018', '09/2018', '39.900 km', '18.990 km',\n",
              "       '05/2023', '04/2013', '05/2015', '05/2016', '07/2018', '12/2022',\n",
              "       '12/2020', '05/2021', '108.500 km', '11/2018', '33.150 km',\n",
              "       '12.520 km', '15.180 km', '6.500 km', '64.500 km', '03/2019',\n",
              "       '27449', '1.000 km', '01/2023', '02/2023', '06/2023', '11/2013',\n",
              "       '14990', '49.000 km', '04/2023', '03/2007', '159.400 km',\n",
              "       '217.946 km', '10900', '75.700 km', '243.431 km', 'CNG'],\n",
              "      dtype=object)"
            ]
          },
          "metadata": {},
          "execution_count": 999
        }
      ]
    },
    {
      "cell_type": "code",
      "source": [
        "#W Column\n",
        "data.price_in_euro.unique()"
      ],
      "metadata": {
        "colab": {
          "base_uri": "https://localhost:8080/"
        },
        "id": "BLizWWxMMYQv",
        "outputId": "67fa838a-5686-402c-afc9-02de922a0de5"
      },
      "execution_count": null,
      "outputs": [
        {
          "output_type": "execute_result",
          "data": {
            "text/plain": [
              "array(['1300', '24900', '5900', ..., '81350', '89690', '61521'],\n",
              "      dtype=object)"
            ]
          },
          "metadata": {},
          "execution_count": 1000
        }
      ]
    },
    {
      "cell_type": "code",
      "source": [
        "#L Column need to handle the invalid data in the column and handle the missing values\n",
        "data.power_kw.unique()"
      ],
      "metadata": {
        "colab": {
          "base_uri": "https://localhost:8080/"
        },
        "id": "PulERDRIMbvH",
        "outputId": "cc1ec420-d406-4ce8-a977-edcd3ffd54b3"
      },
      "execution_count": null,
      "outputs": [
        {
          "output_type": "execute_result",
          "data": {
            "text/plain": [
              "array(['148', '191', '110', '132', '141', '162', '88', '103', '152',\n",
              "       '114', '106', '76', '140', '78', '77', '184', '85', '122', '123',\n",
              "       '121', '177', '136', '147', '185', '129', '176', '118', '120',\n",
              "       '154', '134', '70', '58', '66', '331', '125', '173', '99', '62',\n",
              "       '63', '51', '57', '228', '265', '206', '100', '375', '397', '96',\n",
              "       '115', '117', '10', nan, '95', '250', '244', '338', '309', '318',\n",
              "       '345', '320', '343', '306', '350', '335', '336', '346', '283',\n",
              "       '388', '313', '380', '298', '559', '365', '321', '366', '422',\n",
              "       '421', '402', '423', '425', '381', '403', '412', '447', '420',\n",
              "       '444', '443', '328', '448', '533', '405', '515', '520', '394',\n",
              "       '393', '404', '470', '74', '92', '81', '220', '142', '165', '169',\n",
              "       '195', '75', '55', '128', '280', '45', '235', '133', '253', '246',\n",
              "       '193', '202', '130', '171', '373', '155', '188', '127',\n",
              "       '7,8 l/100 km', '353', '150', '225', '257', '98', '119', '240',\n",
              "       '2005', '352', '210', '107', '213', '260', '105', '221', '200',\n",
              "       '196', '300', '91', '426', '170', '180', '245', '268', '342',\n",
              "       '368', '146', '287', '175', '294', '243', '273', '90', '258',\n",
              "       '386', '199', '143', '86', '455', '281', '2011', '316', '308',\n",
              "       '205', '441', '500', '230', '374', '382', '471', '104', '427',\n",
              "       '302', '190', '135', '588', '272', '270', '160', '435', '182',\n",
              "       '277', '275', '310', '312', '5,4 l/100 km', '301', '419', '449',\n",
              "       '340', '279', '229', '537', '271', '490', '164', '445', '224',\n",
              "       '326', '522', '161', '60', '519', '4,6 l/100 km', '239', '288',\n",
              "       '521', '82', '71', '238', '121 g/km', '129 g/km', '242', '137',\n",
              "       '541', '295', '111', '390', '625', '460', '379', '478', '255',\n",
              "       '7 l/100 km', '456', '145', '529', '158', '282', '370', '396',\n",
              "       '408', '360', '330', '596', '544', '251', '440', '589', '475',\n",
              "       '474', '371', '552', '234', '463', '367', '389', '286', '411',\n",
              "       '413', '511', '395', '377', '428', '467', '472', '434', '485',\n",
              "       '400', '409', '484', '236', '87', '347', '179', '204', '252', '11',\n",
              "       '327', '- (g/km)', '261', '03/2006', '168', '197', '324', '194',\n",
              "       '80', '2009', '7,5 l/100 km', '172', '2010', '566', '469', '267',\n",
              "       '348', '407', '305', '4,9 l/100 km', '215', '317', '266', '332',\n",
              "       '232', '5,3 l/100 km', '6,8 l/100 km', '540', '231', '292', '322',\n",
              "       '214', '262', '504', '8,3 l/100 km', '550', '401', '166',\n",
              "       '5,8 l/100 km', '217', '410', '123 g/km', '339', '290', '430',\n",
              "       '218', '187', '285', '391', '293', '131', '276', '385', '139',\n",
              "       '459', '442', '525', '580', '480', '219', '259', '189', '198',\n",
              "       '203', '226', '477', '307', '53', '49', '38', '50', '333', '369',\n",
              "       '264', '241', '254', '212', '354', '211', '94', '54', '44', '65',\n",
              "       '152 g/km', '5,9 l/100 km', '116', '72', '84', '47', '68', '73',\n",
              "       '89', '61', '35', '56', '6', '64', '79', '67', '33', '19', '48',\n",
              "       '69', '31', '41', '43', '5,6 l/100 km', '291', '227', '284', '297',\n",
              "       '527', '351', '357', '362', '274', '296', '594', '361', '209',\n",
              "       '208', '216', '535', '626', '364', '523', '595', '530', '299',\n",
              "       '325', '372', '416', '492', '489', '493', '545', '486', '417',\n",
              "       '497', '570', '359', '507', '506', '585', '618', '735', '602',\n",
              "       '610', '488', '40', '59', '109', '17', '157', '113', '83', '52',\n",
              "       '14', 'Electric', '5,1 l/100 km', '7,6 l/100 km', '37', '101',\n",
              "       '151', '149', '303', '487', '4,5 l/100 km', '514', '233', '144',\n",
              "       '223', '387', '433', '392', '4,3 l/100 km', 'Petrol', '178', '138',\n",
              "       '93', '483', '183', '156', '547', '355', '358', '112', '567',\n",
              "       '248', '111 g/km', '26 g/km', '186', '207 g/km', '1,4 l/100 km',\n",
              "       '2021', '551', '120 g/km', '108', '46', '97', '25', '26', '344',\n",
              "       '678', '201', '102', '6 l/100 km', '269', '3,8 l/100 km',\n",
              "       '125 g/km', '5', '42', '575', '574', '1', '424', '249', '247',\n",
              "       '323', '2016', '10,9 l/100 km', '450', '378', '6,3 l/100 km',\n",
              "       'Diesel', '6,4 l/100 km', '662', '415', '464', '581', '153',\n",
              "       '8,2 l/100 km', '248 g/km', '192', '131 g/km', '516', '607',\n",
              "       '2017', '384', '439', '524', '181 g/km', '482', '163', '703',\n",
              "       '558', '457', '2020', '174', '620', '126', 'Hybrid', '159', '2022',\n",
              "       '118 g/km', '4 l/100 km', '167', '5,7 l/100 km', '6,1 l/100 km',\n",
              "       '6,6 l/100 km', '124', '116 g/km', '102 g/km', '140 g/km',\n",
              "       '3,5 l/100 km', '24 g/km', '127 g/km', '1,2 l/100 km', '9',\n",
              "       '124 g/km', '101 g/km', '383', '652', '2014', '235 g/km', '446',\n",
              "       '180 g/km', '695', '560', '578', '2023', '4', '8', '13', '12',\n",
              "       '3,7 l/100 km', '386 km Reichweite', '16', '39', '30', '256',\n",
              "       '2019', '96 g/km', '4,8 l/100 km', '5,2 l/100 km', '5 l/100 km',\n",
              "       '2018', '165,5 g/km', '124,6 g/km', '4,7 l/100 km', '11/2022',\n",
              "       '123,3 g/km', '5,5 l/100 km', '140,4 g/km', '120,6 g/km', '315',\n",
              "       '104 g/km', '11/2017', '207', '2,8 l/100 km', '222',\n",
              "       '3,3 l/100 km', '64 g/km', '4,4 l/100 km', '86 g/km', '34',\n",
              "       '7,7 l/100 km', '142 g/km', '6,7 l/100 km', '548', '06/2015',\n",
              "       '278', '6,7 kg/100 km', '112 g/km', '8 l/100 km', '334'],\n",
              "      dtype=object)"
            ]
          },
          "metadata": {},
          "execution_count": 1001
        }
      ]
    },
    {
      "cell_type": "code",
      "source": [
        "#L Column need to handle the invalid data in the column and handle the missing values\n",
        "data.power_ps.unique()"
      ],
      "metadata": {
        "colab": {
          "base_uri": "https://localhost:8080/"
        },
        "id": "nvUM-hmZMiEj",
        "outputId": "6960af26-48a6-4e73-f3c7-2026ef3330b9"
      },
      "execution_count": null,
      "outputs": [
        {
          "output_type": "execute_result",
          "data": {
            "text/plain": [
              "array(['201', '260', '150', '179', '192', '220', '120', '140', '207',\n",
              "       '155', '144', '103', '190', '106', '105', '250', '116', '166',\n",
              "       '167', '165', '241', '185', '200', '252', '175', '239', '160',\n",
              "       '163', '209', '182', '95', '79', '90', '450', '170', '235', '135',\n",
              "       '84', '86', '69', '77', '310', '360', '280', '136', '510', '540',\n",
              "       '131', '156', '159', '14', nan, '129', '340', '332', '460', '420',\n",
              "       '432', '469', '435', '466', '416', '476', '455', '457', '470',\n",
              "       '385', '528', '426', '517', '405', '760', '496', '436', '498',\n",
              "       '574', '572', '547', '575', '578', '518', '548', '560', '608',\n",
              "       '571', '604', '602', '446', '609', '725', '551', '700', '707',\n",
              "       '536', '534', '549', '639', '101', '125', '110', '299', '193',\n",
              "       '224', '230', '265', '102', '75', '174', '381', '61', '320', '181',\n",
              "       '344', '334', '262', '275', '177', '232', '507', '211', '256',\n",
              "       '173', '480', '204', '306', '349', '133', '162', '326', '194 g/km',\n",
              "       '479', '286', '145', '290', '354', '143', '300', '272', '266',\n",
              "       '408', '124', '579', '231', '245', '333', '364', '465', '500',\n",
              "       '199', '390', '238', '400', '330', '371', '122', '351', '525',\n",
              "       '271', '194', '117', '619', '382', '126 g/km', '430', '419', '279',\n",
              "       '600', '680', '313', '508', '519', '640', '141', '581', '411',\n",
              "       '258', '184', '799', '370', '367', '218', '591', '247', '377',\n",
              "       '374', '421', '424', '409', '570', '610', '462', '379', '311',\n",
              "       '730', '368', '666', '223', '605', '305', '443', '710', '219',\n",
              "       '82', '706', '325', '392', '708', '111', '97', '324',\n",
              "       '4,6 l/100 km', '4,9 l/100 km', '329', '186', '736', '401', '151',\n",
              "       '530', '850', '625', '515', '650', '347', '221', '620', '197',\n",
              "       '719', '215', '383', '503', '538', '555', '489', '449', '810',\n",
              "       '740', '341', '598', '801', '646', '644', '504', '751', '318',\n",
              "       '630', '499', '529', '389', '559', '562', '695', '537', '513',\n",
              "       '582', '635', '642', '590', '659', '544', '556', '658', '321',\n",
              "       '118', '472', '243', '277', '343', '15', '445', '7 l/100 km',\n",
              "       '158 g/km', '355', 'Petrol', '228', '268', '441', '264', '109',\n",
              "       '- (g/km)', '234', '153 g/km', '770', '638', '363', '473', '553',\n",
              "       '415', '292', '431', '362', '451', '315', '734', '314', '397',\n",
              "       '438', '291', '356', '685', '748', '545', '226', '295', '557',\n",
              "       '5,3 l/100 km', '461', '394', '585', '296', '254', '387', '532',\n",
              "       '398', '178', '375', '523', '189', '624', '601', '714', '789',\n",
              "       '653', '298', '352', '257', '269', '276', '307', '649', '417',\n",
              "       '72', '67', '52', '68', '453', '502', '359', '328', '345', '288',\n",
              "       '481', '287', '128', '73', '60', '88', '6 l/100 km', '54', '158',\n",
              "       '98', '114', '64', '92', '99', '121', '83', '48', '76', '8', '87',\n",
              "       '107', '91', '45', '26', '65', '94', '42', '56', '58', '396',\n",
              "       '309', '386', '404', '717', '477', '485', '492', '373', '402',\n",
              "       '808', '491', '284', '283', '294', '727', '851', '495', '711',\n",
              "       '809', '721', '407', '442', '506', '566', '669', '665', '670',\n",
              "       '741', '661', '567', '676', '775', '488', '689', '688', '795',\n",
              "       '840', '999', '818', '829', '663', '80', '117 g/km', '148', '23',\n",
              "       '213', '154', '113', '71', '19', '2022', '96', '85', '50', '137',\n",
              "       '205', '51', '203', '412', '662', '132', '699', '317', '196',\n",
              "       '303', '526', '589', '533', '2017', '242', '188', '126', '657',\n",
              "       '249', '212', '744', '483', '487', '152', '771', '337', '2020',\n",
              "       '4,3 l/100 km', '1,2 l/100 km', '253', '7,8 l/100 km', '170 g/km',\n",
              "       '749', '5,9 l/100 km', '147', '63', '34', '100', '35', '468',\n",
              "       '922', '273', '139', '366', '5,5 l/100 km', '7', '57', '782',\n",
              "       '780', '1', '576', '339', '336', '439', '122 g/km', '106 g/km',\n",
              "       '612', '159 g/km', '514', '246 g/km', '5,2 l/100 km', '2011',\n",
              "       '115', '900', '564', '631', '790', '208', '10,6 l/100 km',\n",
              "       '212 g/km', '261', '5 l/100 km', '702', '825', '151 g/km', '180',\n",
              "       '522', '597', '712', '2018', '7,9 l/100 km', '655', '222', '956',\n",
              "       '759', '621', '136 g/km', '237', '843', '171', '216', '146 g/km',\n",
              "       '55', '74', '227', '169', '5,1 l/100 km', '6,6 l/100 km', '81',\n",
              "       '1,1 l/100 km', '5,6 l/100 km', '12', '4,4 l/100 km',\n",
              "       '3,8 l/100 km', '521', '886', '10 l/100 km', '207 g/km', '606',\n",
              "       '945', '761', '2021', '786', '58 g/km', '60 g/km',\n",
              "       '431 km Reichweite', '433 km Reichweite', '505 km Reichweite',\n",
              "       '271 g/km', '5', '11', '18', '16', '22', '53', '41', '348',\n",
              "       '98 g/km', '2019', '3,6 kg/100 km', '95 g/km', '132 g/km',\n",
              "       '7,3 l/100 km', '5,4 l/100 km', '161,8 g/km', '59', '112,5 g/km',\n",
              "       '116,6 g/km', '6,2 l/100 km', '428', 'Hybrid', '102 g/km', '281',\n",
              "       '302', '2,8 l/100 km', '46', '44', '2009', '745', '2014', 'Diesel',\n",
              "       '2016', '378', '454'], dtype=object)"
            ]
          },
          "metadata": {},
          "execution_count": 1002
        }
      ]
    },
    {
      "cell_type": "code",
      "source": [
        "#L Column need to handle the invalid data in the column and handle the missing values\n",
        "data.transmission_type.unique()"
      ],
      "metadata": {
        "colab": {
          "base_uri": "https://localhost:8080/"
        },
        "id": "0ZrESfyxMp3N",
        "outputId": "4f3c4ac1-95f3-4e36-b21f-07e4d319f927"
      },
      "execution_count": null,
      "outputs": [
        {
          "output_type": "execute_result",
          "data": {
            "text/plain": [
              "array(['Manual', 'Unknown', 'Automatic', 'Semi-automatic'], dtype=object)"
            ]
          },
          "metadata": {},
          "execution_count": 1003
        }
      ]
    },
    {
      "cell_type": "code",
      "source": [
        "#L Column need to handle the invalid data in the column and handle the missing values\n",
        "data.fuel_type.unique()"
      ],
      "metadata": {
        "colab": {
          "base_uri": "https://localhost:8080/"
        },
        "id": "p0e0a-qNMsQV",
        "outputId": "c4052eb0-f5c1-4ca1-e52e-92a5f44a0861"
      },
      "execution_count": null,
      "outputs": [
        {
          "output_type": "execute_result",
          "data": {
            "text/plain": [
              "array(['Petrol', 'Diesel', 'Hybrid', 'LPG', 'Other', '07/2004',\n",
              "       '74.194 km', '110.250 km', '06/2014', 'CNG', 'Diesel Hybrid',\n",
              "       '12/2016', 'Automatic', 'Electric', '12/2019', 'Unknown',\n",
              "       '06/2023', 'Ethanol', 'Manual', '300.000 km', '264.000 km',\n",
              "       'KETTE NEUE', '108.313 km', '05/2009', '180.000 km', '04/2013',\n",
              "       '03/2014', '08/2014', '01/2016', '03/2017', '04/2008', '07/2007',\n",
              "       '145.500 km', '12/2012', '25890', '10/2022', '06/2004', '09/2009',\n",
              "       '12/2014', '02/2017', '12890', '11/2018', '08/2018', '03/2019',\n",
              "       '19450', '11/2021', '20.600 km', 'Hydrogen', '07/2022', '05/2015',\n",
              "       '03/2018', '04/2022', '160.629 km', '144.919 km', '02/1996',\n",
              "       '04/2000', '200.000 km', '06/2009', '185.500 km', '13000',\n",
              "       '05/2012', '11/2014', '10/2015', '350.000 km', '49.817 km',\n",
              "       '34900', '35.487 km', '03/2021', '26890', '26990', '4.000 km',\n",
              "       '11/2005', '07/2005', '08/2011', '02/2011', '03/2011', '10/2013',\n",
              "       '09/2015', '02/2018', '02/2023', '08/2017', '99.900 km', '67780',\n",
              "       '30.450 km', '62.880 km', '116490', '119890', '29.990 km',\n",
              "       '39.990 km', '13.610 km', '139890', '179990', '9.900 km',\n",
              "       '6.900 km', '9.870 km', '25.600 km', '37.500 km', '13750',\n",
              "       '01/2021', '05/2021', '42.300 km', '08/2013', '02/2013', '04/2017',\n",
              "       '11/2017', '83.034 km', '70.300 km', '1.000 km', '01/2022', 'FSE',\n",
              "       '40919', '05/2023', '02/2009', 'DAB', '09/2019', '08/2019',\n",
              "       '12.300 km', '18790', '11/2022', '04/2023', '03/2023', '01/2023',\n",
              "       '07/1999', '02/2002', '08/2007', '05/2007', '6500', '9350',\n",
              "       'KD GEPL', '07/2015', '41600', '14900', '09/2017', '06/2017',\n",
              "       '06/2018', '06/2020'], dtype=object)"
            ]
          },
          "metadata": {},
          "execution_count": 1004
        }
      ]
    },
    {
      "cell_type": "code",
      "source": [
        "#L Column need to handle the invalid data in the column and handle the missing values\n",
        "data.fuel_consumption_l_100km.unique()"
      ],
      "metadata": {
        "colab": {
          "base_uri": "https://localhost:8080/"
        },
        "id": "kDbhYmWMMuav",
        "outputId": "222b61f6-74d2-4607-d184-90f8d18ac009"
      },
      "execution_count": null,
      "outputs": [
        {
          "output_type": "execute_result",
          "data": {
            "text/plain": [
              "array(['10,9 l/100 km', nan, '9,5 l/100 km', '7,2 l/100 km',\n",
              "       '8,8 l/100 km', '13,4 l/100 km', '11 l/100 km', '9,2 l/100 km',\n",
              "       '11,1 l/100 km', '11,7 l/100 km', '8,4 l/100 km', '8,2 l/100 km',\n",
              "       '8,9 l/100 km', '11,4 l/100 km', '8,5 l/100 km', '8,3 l/100 km',\n",
              "       '7,9 l/100 km', '8,7 l/100 km', '8,1 l/100 km', '12,2 l/100 km',\n",
              "       '12 l/100 km', '5,8 l/100 km', '10 l/100 km', '6,7 l/100 km',\n",
              "       '8,6 l/100 km', '12,5 l/100 km', '9,7 l/100 km', '12,1 l/100 km',\n",
              "       '8 l/100 km', '7,5 l/100 km', '6,2 l/100 km', '13,2 l/100 km',\n",
              "       '6 l/100 km', '12,4 l/100 km', '6,8 l/100 km', '9,4 l/100 km',\n",
              "       '6,1 l/100 km', '5,9 l/100 km', '11,5 l/100 km', '11,6 l/100 km',\n",
              "       '7,6 l/100 km', '5,2 l/100 km', '7,1 l/100 km', '6,9 l/100 km',\n",
              "       '12,3 l/100 km', '6,5 l/100 km', '7,7 l/100 km', '4,6 l/100 km',\n",
              "       '4,8 l/100 km', '4,5 l/100 km', '5,3 l/100 km', '6,4 l/100 km',\n",
              "       '4,9 l/100 km', '6,6 l/100 km', '5,5 l/100 km', '5,4 l/100 km',\n",
              "       '5,6 l/100 km', '16,8 l/100 km', '5,7 l/100 km', '3,5 l/100 km',\n",
              "       '4,4 l/100 km', '4,7 l/100 km', '4 l/100 km', '4,2 l/100 km',\n",
              "       '- (l/100 km)', '7 l/100 km', '4,3 l/100 km', '5,1 l/100 km',\n",
              "       '3,4 l/100 km', '3,9 l/100 km', '3,8 l/100 km', '9 l/100 km',\n",
              "       '9,8 l/100 km', '10,3 l/100 km', '7,4 l/100 km', '7,8 l/100 km',\n",
              "       '6,3 l/100 km', '10,1 l/100 km', '5 l/100 km', '9,3 l/100 km',\n",
              "       '7,3 l/100 km', '10,8 l/100 km', '0 l/100 km', '11,8 l/100 km',\n",
              "       '1,3 l/100 km', '1,4 l/100 km', '9,1 l/100 km', '9,6 l/100 km',\n",
              "       '10,2 l/100 km', '1,5 l/100 km', '12,7 l/100 km', '16,5 l/100 km',\n",
              "       '14,7 l/100 km', '16,7 l/100 km', '18,8 l/100 km', '14,6 l/100 km',\n",
              "       '17,8 l/100 km', '17,2 l/100 km', '18,9 l/100 km', '15 l/100 km',\n",
              "       '13,8 l/100 km', '18,7 l/100 km', '16,4 l/100 km', '15,6 l/100 km',\n",
              "       '18,2 l/100 km', '18 l/100 km', '14 l/100 km', '14,9 l/100 km',\n",
              "       '13,9 l/100 km', '15,5 l/100 km', '12,6 l/100 km', '14,4 l/100 km',\n",
              "       '12,9 l/100 km', '14,3 l/100 km', '17 l/100 km', '12,8 l/100 km',\n",
              "       '13,1 l/100 km', '9,9 l/100 km', '10,5 l/100 km', '14,2 l/100 km',\n",
              "       '13,5 l/100 km', '10,6 l/100 km', '16,9 l/100 km', '11,2 l/100 km',\n",
              "       '10,7 l/100 km', '11,3 l/100 km', '19,9 l/100 km', '10,4 l/100 km',\n",
              "       '13,7 l/100 km', '11,9 l/100 km', '3,2 l/100 km', '14,5 l/100 km',\n",
              "       '187 g/km', '14,8 l/100 km', '13,3 l/100 km', 'Petrol',\n",
              "       '13 l/100 km', '13,6 l/100 km', '4,1 l/100 km', '3,7 l/100 km',\n",
              "       '3,3 l/100 km', '128 g/km', '5 kg/100 km', '1,7 l/100 km',\n",
              "       '1,9 l/100 km', '4,6 kg/100 km', '3,6 l/100 km', '3,6 kg/100 km',\n",
              "       '5,4 kg/100 km', '119 g/km', '1,8 l/100 km', '6 kg/100 km',\n",
              "       '1,6 l/100 km', '2017', '6,2 kg/100 km', '6,3 kg/100 km',\n",
              "       '3,9 kg/100 km', '5,5 kg/100 km', '6,4 kg/100 km', '5,2 kg/100 km',\n",
              "       '1 l/100 km', '5,7 kg/100 km', '6,5 kg/100 km', '2,1 l/100 km',\n",
              "       '2,2 l/100 km', '159 g/km', '2,4 l/100 km', '4,4 kg/100 km',\n",
              "       '6,1 kg/100 km', '4,8 kg/100 km', '2 l/100 km', '3 l/100 km',\n",
              "       '430 km (Ort)', '50 km (Ort)', '3,5 kg/100 km', '21,2 l/100 km',\n",
              "       '4,5 kg/100 km', '2,7 l/100 km', '2,6 l/100 km', '19,4 l/100 km',\n",
              "       '455 km (Ort)', '599 km (Ort)', '0 kWh/100 km', '0,4 l/100 km',\n",
              "       '415 km Reichweite', '19,2 l/100 km', '20,6 l/100 km',\n",
              "       '16,6 l/100 km', '17,1 l/100 km', '19,5 l/100 km', '17,7 l/100 km',\n",
              "       '16,3 l/100 km', '15,9 l/100 km', '14,1 l/100 km', '141 l/100 km',\n",
              "       '15,7 l/100 km', '16,2 l/100 km', '9,1 kg/100 km', '2003',\n",
              "       'Diesel', 'Manual', '15,2 l/100 km', '- (g/km)', '99 l/100 km',\n",
              "       '110 km (Ort)', '140 g/km', '161 g/km', '0,6 l/100 km', '193 g/km',\n",
              "       '2,8 l/100 km', '346 km (Ort)', '420 km (Ort)', '423 km (Ort)',\n",
              "       '392 km (Ort)', '395 km (Ort)', '402 km (Ort)', '399 km (Ort)',\n",
              "       '410 km (Ort)', '1,2 l/100 km', '403 km (Ort)', '424 km (Ort)',\n",
              "       '2,5 l/100 km', '2,3 l/100 km', '400 km (Ort)', '393 km (Ort)',\n",
              "       '416 km (Ort)', '398 km (Ort)', '363 km (Ort)', '421 km (Ort)',\n",
              "       '59 km (Ort)', '413 km (Ort)', '425 km (Ort)', '564 km (Ort)',\n",
              "       '212 kWh/100 km', '397 km (Ort)', '600 km (Ort)', '571 km (Ort)',\n",
              "       '411 km (Ort)', '19,3 kWh/100 km', '60 km (Ort)', '561 km (Ort)',\n",
              "       '224 kWh/100 km', '66,4 l/100 km', '669 km (Ort)',\n",
              "       '19,1 kWh/100 km', '563 km (Ort)', '567 km (Ort)', '678 km (Ort)',\n",
              "       '462 km (Ort)', '497 km (Ort)', '461 km (Ort)', '642 km (Ort)',\n",
              "       '19 l/100 km', '106 km (Ort)', '662 km (Ort)', '510 km (Ort)',\n",
              "       '607 km (Ort)', '73 l/100 km', '521 km (Ort)', '483 km (Ort)',\n",
              "       '165 kWh/100 km', '2006', '38 l/100 km', '3,1 l/100 km',\n",
              "       '45 l/100 km', '354 km (Ort)', '486 km (Ort)', '350 km (Ort)',\n",
              "       '279 km (Ort)', '69 km (Ort)', '156 g/km', '5,3 kg/100 km',\n",
              "       '62 l/100 km', '305 km (Ort)', '230 km (Ort)', '8,4 kg/100 km',\n",
              "       '8,3 kg/100 km', '4,9 kg/100 km', '137 g/km', '8,8 kg/100 km',\n",
              "       '15,3 l/100 km', '21 l/100 km', '14,9 kg/100 km', '14,7 kg/100 km',\n",
              "       '22,2 l/100 km', '22,9 l/100 km', '20,8 l/100 km', '17,9 l/100 km',\n",
              "       '19,1 l/100 km', '21,8 l/100 km', '20,7 l/100 km', '18,3 l/100 km',\n",
              "       '21,3 l/100 km', '17,5 l/100 km', '16,1 l/100 km', '15,1 l/100 km',\n",
              "       '5,6 kg/100 km', '6,8 kg/100 km', '180 g/km', '5,9 kg/100 km',\n",
              "       '7,4 kg/100 km', '460 km (Ort)', '447 km (Ort)', '14,3 kWh/100 km',\n",
              "       '06/2022', '438 km (Ort)', '320 km (Ort)', '13 kWh/100 km',\n",
              "       '257 km (Ort)', '117 g/km', '181 g/km', '88 l/100 km',\n",
              "       '7,3 kg/100 km', '65 l/100 km', '121 g/km', '66 l/100 km',\n",
              "       '4.300 l/100 km', '15,8 l/100 km', '99 g/km', '03/2017',\n",
              "       '22 l/100 km', '184 g/km', '99,9 l/100 km', '85,4 l/100 km',\n",
              "       '134 g/km', '2,9 l/100 km', '45 km (Ort)', '08/2020',\n",
              "       '480 km (Ort)', '2020', '2021', '588 km (Ort)', '71 km (Ort)',\n",
              "       '540 km (Ort)', '44 km (Ort)', '31 g/km', '1,1 l/100 km',\n",
              "       '75 km (Ort)', '739 km (Ort)', '119 l/100 km', '42 km (Ort)',\n",
              "       '2023', '17,8 kWh/100 km', '210 km (Ort)', '51,8 l/100 km',\n",
              "       '41 l/100 km', '1 kg/100 km', '1,2 kg/100 km', '640 km (Ort)',\n",
              "       '249 km (Ort)', '15,4 kWh/100 km', '0,8 kg/100 km',\n",
              "       '0,9 kg/100 km', '14,7 kWh/100 km', '435 km (Ort)', '550 km (Ort)',\n",
              "       '1 km (Ort)', '407 km (Ort)', '646 km (Ort)', '62 km (Ort)',\n",
              "       '74 km (Ort)', '660 km (Ort)', '125 g/km', '66 km (Ort)',\n",
              "       '154 g/km', '658 km (Ort)', '53 l/100 km', '22 kWh/100 km',\n",
              "       '594 km (Ort)', '55 km (Ort)', '53 km (Ort)', '52 km (Ort)',\n",
              "       '54 km (Ort)', '56 km (Ort)', '138 g/km', '88 g/km', '2019',\n",
              "       '58 km (Ort)', '464 km (Ort)', '300 km (Ort)', '687 km (Ort)',\n",
              "       '578 km (Ort)', '12,6 kWh/100 km', '57 km (Ort)', '76 km (Ort)',\n",
              "       '20,6 kWh/100 km', '630 km (Ort)', '136 g/km', '500 km (Ort)',\n",
              "       '0,8 l/100 km', '604 km (Ort)', '506 km (Ort)', '60 l/100 km',\n",
              "       '52 l/100 km', '21,5 l/100 km', '16 l/100 km', '19,6 l/100 km',\n",
              "       '20,1 l/100 km', '18,4 l/100 km', '31,4 l/100 km', '0,9 l/100 km',\n",
              "       '68 km (Ort)', '18,1 l/100 km', '18,6 l/100 km', '21,9 l/100 km',\n",
              "       '262 km (Ort)', '15,4 l/100 km', '262 g/km', '9,3 kg/100 km',\n",
              "       '7,5 kg/100 km', '13,3 kg/100 km', '2010', '7,8 kg/100 km',\n",
              "       '12/2011', '0 kg/100 km', '4,2 kg/100 km', '13,1 kg/100 km',\n",
              "       '192 g/km', '2015', '2016', '169 g/km', '12/2018', '2018',\n",
              "       '48 km (Ort)', '0,1 l/100 km', '458 km (Ort)', '690 km (Ort)',\n",
              "       '0,7 l/100 km', '0,5 l/100 km', '495 km (Ort)', '603 km (Ort)',\n",
              "       '597 km (Ort)', '34 km (Ort)', '301 km (Ort)', '307 km (Ort)',\n",
              "       '304 km (Ort)', '303 km (Ort)', '295 km (Ort)', '310 km (Ort)',\n",
              "       '308 km (Ort)', '294 km (Ort)', '259 km (Ort)', '234 km (Ort)',\n",
              "       '309 km (Ort)', '152 l/100 km', '61 km (Ort)', '98,4 l/100 km',\n",
              "       '120 km (Ort)', '389 km (Ort)', '528 km (Ort)', '05/2020',\n",
              "       '533 km (Ort)', '04/2022', '450 km (Ort)', '523 km (Ort)',\n",
              "       '573 km (Ort)', '531 km (Ort)', '105 g/km', '8,1 kg/100 km',\n",
              "       '7,6 kg/100 km', '179 g/km', '7,7 kg/100 km', '5,1 kg/100 km',\n",
              "       '135 g/km', '145 g/km', '4,7 kg/100 km', '2013', '92 g/km',\n",
              "       '7,2 kg/100 km', '337 km (Ort)', '15,8 kWh/100 km', '330 km (Ort)',\n",
              "       '59 l/100 km', '17,7 kWh/100 km', '57 l/100 km', '17,5 kWh/100 km',\n",
              "       '15,5 kWh/100 km', '73 km (Ort)', '496 km (Ort)', '70 km (Ort)',\n",
              "       '344 km (Ort)', '2022', '80 km (Ort)', '18 kWh/100 km',\n",
              "       '116 l/100 km', '328 km (Ort)', '472 km (Ort)', '491 km (Ort)',\n",
              "       '493 km (Ort)', '107 l/100 km', '331 km (Ort)', '67 km (Ort)',\n",
              "       '02/2017', '10/2020', '09/2021', 'Hybrid', 'Electric',\n",
              "       '484 km (Ort)', '554 km (Ort)', '02/2022', '01/2022', '95 g/km',\n",
              "       '316 km (Ort)', '168 km (Ort)', '386 km (Ort)', '17,3 kWh/100 km',\n",
              "       '270 km (Ort)', '100 km (Ort)', '477 km (Ort)', '529 km (Ort)',\n",
              "       '433 km (Ort)', '3,7 kg/100 km', '2,9 kg/100 km', '4,3 kg/100 km',\n",
              "       '3,3 kg/100 km', '112 g/km', '3,4 kg/100 km', '3,8 kg/100 km',\n",
              "       '120 l/100 km', '08/2019', '131 l/100 km', '4 kg/100 km',\n",
              "       '147 l/100 km', '173 l/100 km', '132 l/100 km', '130 l/100 km',\n",
              "       '138 l/100 km', '134 l/100 km', '4,1 kg/100 km', '126 g/km',\n",
              "       '127 g/km', '56 l/100 km', '133 l/100 km', '123 g/km', '129 g/km',\n",
              "       '2,8 kg/100 km', '123 l/100 km', '353 km (Ort)', '125 l/100 km',\n",
              "       '7,1 kg/100 km', '14,5 kWh/100 km', '636 km (Ort)', '471 km (Ort)',\n",
              "       '122 l/100 km', '616 km (Ort)', '610 km (Ort)', 'Automatic',\n",
              "       '481 km (Ort)', '05/2022', '104 g/km', '171 l/100 km',\n",
              "       '138 km (Ort)', '163 km (Ort)', '187 km (Ort)', '177 km (Ort)',\n",
              "       '175 km (Ort)', '182 km (Ort)', '150 km (Ort)', '155 km (Ort)',\n",
              "       '16 kWh/100 km', '135 km (Ort)', '474 km (Ort)', '55 l/100 km',\n",
              "       '0,1 kg/100 km', '0 g/km', '130 g/km', '11/2020', '49 l/100 km',\n",
              "       '98 km (Ort)', '547 km (Ort)', '592 km (Ort)', '113 g/km',\n",
              "       '64 g/km', '86 g/km', '583 km (Ort)', '76 g/km', '644 km (Ort)',\n",
              "       '101 g/km', '201 g/km', '185 g/km', '30 l/100 km', '163 g/km',\n",
              "       '8,7 kg/100 km', '8,6 kg/100 km', '26 l/100 km', '2007',\n",
              "       '177 g/km', '11,2 kg/100 km', '8,9 kg/100 km', '5,8 kg/100 km',\n",
              "       '6,9 kg/100 km', '12/2009', '7 kg/100 km', '61 l/100 km',\n",
              "       '12/2014', '10,4 kg/100 km', '08/2016', '36 l/100 km', '07/2016',\n",
              "       '120 g/km', '250 km (Ort)', '231 km (Ort)', '220 km (Ort)',\n",
              "       '146 l/100 km', '358 km (Ort)', '143 l/100 km', '315 km (Ort)',\n",
              "       '0,2 l/100 km', '701 km (Ort)', '568 km (Ort)', '9 kg/100 km',\n",
              "       '49 km (Ort)', '46 km (Ort)', '51 km (Ort)', '574 km (Ort)',\n",
              "       '527 km (Ort)', '519 km (Ort)', '559 km (Ort)', '541 km (Ort)',\n",
              "       '22,6 l/100 km', '92 km (Ort)', '93 km (Ort)'], dtype=object)"
            ]
          },
          "metadata": {},
          "execution_count": 1005
        }
      ]
    },
    {
      "cell_type": "code",
      "source": [
        "#L Column need to handle the invalid data in the column and handle the missing values or remove the column its usless\n",
        "data.fuel_consumption_g_km.unique()"
      ],
      "metadata": {
        "colab": {
          "base_uri": "https://localhost:8080/"
        },
        "id": "hyQ1u-RwMyHV",
        "outputId": "b4e96f0b-f340-47f5-e900-1e3b2c18c50d"
      },
      "execution_count": null,
      "outputs": [
        {
          "output_type": "execute_result",
          "data": {
            "text/plain": [
              "array(['260 g/km', '- (g/km)', '225 g/km', ..., '67 g/km',\n",
              "       '78 km Reichweite', '77 km Reichweite'], dtype=object)"
            ]
          },
          "metadata": {},
          "execution_count": 1006
        }
      ]
    },
    {
      "cell_type": "code",
      "source": [
        "#W Column\n",
        "data.mileage_in_km.unique()"
      ],
      "metadata": {
        "colab": {
          "base_uri": "https://localhost:8080/"
        },
        "id": "NZ8Kktq6M02b",
        "outputId": "c8a44f45-11e6-4438-8a65-8a4d8279c81a"
      },
      "execution_count": null,
      "outputs": [
        {
          "output_type": "execute_result",
          "data": {
            "text/plain": [
              "array([160500., 190000., 129000., ...,   6047.,   1506.,   1229.])"
            ]
          },
          "metadata": {},
          "execution_count": 1007
        }
      ]
    },
    {
      "cell_type": "code",
      "source": [
        "#W Column\n",
        "data.offer_description.unique()"
      ],
      "metadata": {
        "colab": {
          "base_uri": "https://localhost:8080/"
        },
        "id": "RjsqCeFyM7Gi",
        "outputId": "c4fff914-bae3-436f-f3ee-9275c4c4f221"
      },
      "execution_count": null,
      "outputs": [
        {
          "output_type": "execute_result",
          "data": {
            "text/plain": [
              "array(['2.0 V6 TB', 'Q4 Allrad, 3.2L GTA', 'ALFA ROME 916', ...,\n",
              "       'B5 AWD Diesel Ultimate Dark 7-Sitzer Massage Four-',\n",
              "       'T5 Recharge Plus Dark *Standh*360°*beh.Lenk',\n",
              "       'Ultimate Recharge Twin Motor AHK GJR'], dtype=object)"
            ]
          },
          "metadata": {},
          "execution_count": 1008
        }
      ]
    },
    {
      "cell_type": "markdown",
      "source": [
        "# Cleaning/Handling null values\n"
      ],
      "metadata": {
        "id": "HynPmlYy4_S3"
      }
    },
    {
      "cell_type": "code",
      "source": [
        "data['registration_date'].isnull().sum()"
      ],
      "metadata": {
        "colab": {
          "base_uri": "https://localhost:8080/"
        },
        "id": "sP30Pc9M5Wza",
        "outputId": "3d60112a-ddc0-4180-e3b7-93b864ef8b0e"
      },
      "execution_count": null,
      "outputs": [
        {
          "output_type": "execute_result",
          "data": {
            "text/plain": [
              "4"
            ]
          },
          "metadata": {},
          "execution_count": 1009
        }
      ]
    },
    {
      "cell_type": "code",
      "source": [
        "data['color'].isnull().sum()"
      ],
      "metadata": {
        "colab": {
          "base_uri": "https://localhost:8080/"
        },
        "id": "0wpGi8s0Y26q",
        "outputId": "7a2302e9-0afc-47c2-d60e-9c3601a6f19f"
      },
      "execution_count": null,
      "outputs": [
        {
          "output_type": "execute_result",
          "data": {
            "text/plain": [
              "166"
            ]
          },
          "metadata": {},
          "execution_count": 1010
        }
      ]
    },
    {
      "cell_type": "markdown",
      "source": [
        "As the null values in column color is so low to effect the data i will replace them with mode\n",
        "\n",
        "\n",
        "\n",
        "\n",
        "\n"
      ],
      "metadata": {
        "id": "DmZdyvsCPZNg"
      }
    },
    {
      "cell_type": "code",
      "source": [
        "#using mode as color is categorical\n",
        "mode_color = data['color'].mode()[0]\n",
        "data['color'].fillna(mode_color, inplace=True)"
      ],
      "metadata": {
        "id": "ZWX_eTH2PHum"
      },
      "execution_count": null,
      "outputs": []
    },
    {
      "cell_type": "markdown",
      "source": [
        "i am getting rid of the invalid data in the registration_date"
      ],
      "metadata": {
        "id": "VcTW-LR8TjCp"
      }
    },
    {
      "cell_type": "code",
      "source": [
        "#removing any value that dosent look like this (04/2001)\n",
        "data['registration_date'] = pd.to_datetime(data['registration_date'], errors='coerce')\n",
        "data['registration_date'] = data['registration_date'].dt.strftime('%m/%Y')"
      ],
      "metadata": {
        "id": "qsWsSMc2HEnJ"
      },
      "execution_count": null,
      "outputs": []
    },
    {
      "cell_type": "markdown",
      "source": [
        "as the null values are so low its fine to drop them"
      ],
      "metadata": {
        "id": "bhaivfQM5cY0"
      }
    },
    {
      "cell_type": "code",
      "source": [
        "data = data.dropna(subset=['registration_date'])\n",
        "# to drop the null values"
      ],
      "metadata": {
        "id": "iZBR43l5Tnsx"
      },
      "execution_count": null,
      "outputs": []
    },
    {
      "cell_type": "code",
      "source": [
        "data.registration_date.unique()"
      ],
      "metadata": {
        "colab": {
          "base_uri": "https://localhost:8080/"
        },
        "id": "UDosCKOvSCn5",
        "outputId": "aa01a749-adbc-489d-9972-4b7868f5a3c8"
      },
      "execution_count": null,
      "outputs": [
        {
          "output_type": "execute_result",
          "data": {
            "text/plain": [
              "array(['10/1995', '02/1995', '07/1995', '11/1996', '04/1996', '12/1996',\n",
              "       '07/1996', '01/1996', '02/1996', '10/1996', '05/1997', '06/1997',\n",
              "       '10/1997', '03/1997', '01/1997', '02/1997', '04/1997', '07/1997',\n",
              "       '09/1997', '07/1998', '05/1998', '01/1998', '11/1998', '09/1998',\n",
              "       '07/1999', '02/1999', '06/1999', '12/1999', '05/1999', '01/1999',\n",
              "       '04/1999', '03/1999', '10/2000', '06/2000', '05/2000', '01/2000',\n",
              "       '04/2000', '11/2000', '03/2000', '02/2000', '09/2001', '02/2001',\n",
              "       '03/2001', '01/2001', '11/2001', '12/2001', '04/2001', '05/2001',\n",
              "       '07/2001', '06/2001', '10/2002', '12/2002', '01/2002', '09/2002',\n",
              "       '11/2002', '06/2002', '03/2002', '02/2002', '05/2003', '10/2003',\n",
              "       '07/2003', '02/2003', '01/2003', '03/2003', '08/2003', '06/2003',\n",
              "       '03/2004', '02/2004', '09/2004', '04/2004', '08/2004', '01/2004',\n",
              "       '11/2004', '06/2004', '10/2004', '12/2004', '07/2004', '05/2004',\n",
              "       '10/2005', '06/2005', '07/2005', '09/2005', '01/2005', '11/2005',\n",
              "       '05/2005', '08/2005', '02/2005', '02/2006', '09/2006', '04/2006',\n",
              "       '01/2006', '08/2006', '06/2006', '11/2006', '05/2006', '07/2006',\n",
              "       '12/2006', '03/2006', '10/2006', '03/2007', '08/2007', '10/2007',\n",
              "       '06/2007', '11/2007', '09/2007', '05/2007', '07/2007', '12/2007',\n",
              "       '04/2007', '02/2008', '06/2008', '10/2008', '07/2008', '05/2008',\n",
              "       '11/2008', '08/2008', '09/2008', '12/2008', '04/2008', '01/2008',\n",
              "       '06/2009', '12/2009', '07/2009', '05/2009', '01/2009', '09/2009',\n",
              "       '03/2009', '10/2009', '11/2009', '02/2009', '04/2009', '08/2009',\n",
              "       '07/2010', '01/2010', '04/2010', '09/2010', '12/2010', '08/2010',\n",
              "       '11/2010', '03/2010', '05/2010', '10/2010', '06/2010', '10/2011',\n",
              "       '09/2011', '06/2011', '05/2011', '03/2011', '08/2011', '11/2011',\n",
              "       '04/2011', '01/2011', '12/2011', '07/2011', '02/2011', '07/2012',\n",
              "       '10/2012', '12/2012', '03/2012', '05/2012', '09/2012', '01/2012',\n",
              "       '06/2012', '02/2012', '11/2012', '08/2012', '04/2012', '10/2013',\n",
              "       '06/2013', '08/2013', '11/2013', '04/2013', '12/2013', '09/2013',\n",
              "       '03/2013', '02/2013', '05/2013', '01/2013', '08/2014', '04/2014',\n",
              "       '09/2014', '12/2014', '05/2014', '01/2014', '11/2014', '07/2014',\n",
              "       '11/2015', '06/2015', '04/2015', '12/2015', '07/2015', '03/2015',\n",
              "       '02/2015', '08/2015', '01/2015', '09/2015', '01/2016', '06/2016',\n",
              "       '11/2016', '03/2016', '09/2016', '02/2016', '08/2016', '05/2016',\n",
              "       '10/2016', '12/2016', '04/2016', '07/2016', '08/2017', '09/2017',\n",
              "       '03/2017', '05/2017', '06/2017', '10/2017', '12/2017', '07/2017',\n",
              "       '02/2017', '04/2017', '11/2017', '07/2018', '02/2018', '01/2018',\n",
              "       '03/2018', '05/2018', '06/2018', '09/2018', '10/2018', '11/2018',\n",
              "       '12/2018', '04/2018', '08/2018', '08/2019', '10/2019', '02/2019',\n",
              "       '05/2019', '03/2019', '12/2019', '09/2019', '01/2019', '04/2019',\n",
              "       '06/2019', '11/2019', '07/2019', '09/2020', '06/2020', '04/2020',\n",
              "       '12/2020', '05/2020', '10/2020', '02/2020', '11/2020', '08/2020',\n",
              "       '07/2020', '03/2020', '01/2020', '10/2021', '12/2021', '09/2021',\n",
              "       '04/2021', '02/2021', '11/2021', '07/2021', '06/2021', '08/2021',\n",
              "       '05/2021', '01/2021', '03/2021', '04/2022', '11/2022', '12/2022',\n",
              "       '06/2022', '03/2022', '10/2022', '05/2022', '01/2022', '07/2022',\n",
              "       '09/2022', '08/2022', '02/2022', '04/2023', '03/2023', '02/2023',\n",
              "       '01/2023', '05/2023', '06/2023', '03/1996', '04/2002', '03/2005',\n",
              "       '07/2013', '02/2014', '05/2015', '10/2015', '01/2017', '08/1997',\n",
              "       '12/1997', '11/1997', '06/1998', '08/1998', '10/1998', '03/1998',\n",
              "       '08/1999', '10/1999', '11/1999', '09/1999', '08/2000', '12/2000',\n",
              "       '07/2000', '09/2000', '10/2001', '08/2001', '07/2002', '08/2002',\n",
              "       '05/2002', '04/2003', '12/2003', '09/2003', '11/2003', '12/2005',\n",
              "       '04/2005', '01/2007', '02/2007', '03/2008', '02/2010', '03/2014',\n",
              "       '06/2014', '10/2014', '05/1995', '12/1995', '08/1995', '08/1996',\n",
              "       '05/1996', '06/1996', '02/1998', '04/1998', '12/1998', '01/1900',\n",
              "       '06/1995', '09/1995', '11/2023', '04/1995', '01/1995', '09/1996',\n",
              "       '03/1995', '07/2023', '11/1995', '10/1990'], dtype=object)"
            ]
          },
          "metadata": {},
          "execution_count": 1014
        }
      ]
    },
    {
      "cell_type": "markdown",
      "source": [
        "in the year column we see that the valid values are of 4 characters only"
      ],
      "metadata": {
        "id": "LVTCx-wmUTBV"
      }
    },
    {
      "cell_type": "code",
      "source": [
        "data.year.unique()"
      ],
      "metadata": {
        "colab": {
          "base_uri": "https://localhost:8080/"
        },
        "id": "GHwlYZKHS2aP",
        "outputId": "75406e03-7506-4f33-873e-ee5d416d6d30"
      },
      "execution_count": null,
      "outputs": [
        {
          "output_type": "execute_result",
          "data": {
            "text/plain": [
              "array(['1995', '1996', '1997', '1998', '1999', '2000', '2001', '2002',\n",
              "       '2003', '2004', '2005', '2006', '2007', '2008', '2009', '2010',\n",
              "       '2011', '2012', '2013', '2014', '2015', '2016', '2017', '2018',\n",
              "       '2019', '2020', '2021', '2022', '2023', 'Manual', 'Automatic'],\n",
              "      dtype=object)"
            ]
          },
          "metadata": {},
          "execution_count": 1015
        }
      ]
    },
    {
      "cell_type": "code",
      "source": [
        "data = data[data['year'].str.len() <= 4]"
      ],
      "metadata": {
        "id": "wvSzjES0SzZ4"
      },
      "execution_count": null,
      "outputs": []
    },
    {
      "cell_type": "markdown",
      "source": [
        "i want to see the number of unkowns in `fuel type` and `transsimison_type` cols"
      ],
      "metadata": {
        "id": "ff9eRoxIUsKM"
      }
    },
    {
      "cell_type": "code",
      "source": [
        "unknownFuel_type =data['fuel_type'].eq('Unknown').sum()\n",
        "unknownTransmission_Type =data['transmission_type'].eq('Unknown').sum()\n",
        "print(unknownFuel_type)\n",
        "print(unknownTransmission_Type)"
      ],
      "metadata": {
        "colab": {
          "base_uri": "https://localhost:8080/"
        },
        "id": "6qZTZIqcZE78",
        "outputId": "46a44281-9c10-44b4-eff7-db88875f2c8e"
      },
      "execution_count": null,
      "outputs": [
        {
          "output_type": "stream",
          "name": "stdout",
          "text": [
            "96\n",
            "1143\n"
          ]
        }
      ]
    },
    {
      "cell_type": "markdown",
      "source": [
        "iam replacing the unknows with mode as its 2 categorical colmuns"
      ],
      "metadata": {
        "id": "gtrNcs4aU9EW"
      }
    },
    {
      "cell_type": "code",
      "source": [
        "mode_fuel = data['fuel_type'].mode()[0]\n",
        "mode_tran = data['transmission_type'].mode()[0]"
      ],
      "metadata": {
        "id": "Z4OepjBUb6_d"
      },
      "execution_count": null,
      "outputs": []
    },
    {
      "cell_type": "code",
      "source": [
        "data['fuel_type'] = data['fuel_type'].replace('Unknown', mode_fuel)"
      ],
      "metadata": {
        "id": "ZBb3xsr8bxV6"
      },
      "execution_count": null,
      "outputs": []
    },
    {
      "cell_type": "code",
      "source": [
        "data['transmission_type'] = data['transmission_type'].replace('Unknown', mode_tran)"
      ],
      "metadata": {
        "id": "U758g0QJccNX"
      },
      "execution_count": null,
      "outputs": []
    },
    {
      "cell_type": "markdown",
      "source": [
        "In column `fuel_consumption_g_km` and `fuel_consumption_l_100km` they almost have the same purpose so i will drop the `fuel_consumption_g_km` column as its not useful to me for this project"
      ],
      "metadata": {
        "id": "JhXNokMmVJKq"
      }
    },
    {
      "cell_type": "code",
      "source": [
        "data = data.drop('fuel_consumption_g_km', axis=1)"
      ],
      "metadata": {
        "id": "sxcRT5g_X5oB"
      },
      "execution_count": null,
      "outputs": []
    },
    {
      "cell_type": "markdown",
      "source": [
        "null is so low i will drop it in table power_kw and i will drop the power_kw later"
      ],
      "metadata": {
        "id": "byi96XQpk7Zv"
      }
    },
    {
      "cell_type": "code",
      "source": [
        "data.power_kw.isnull().sum()"
      ],
      "metadata": {
        "id": "j7clv9uVFcZP",
        "colab": {
          "base_uri": "https://localhost:8080/"
        },
        "outputId": "a787dea8-df8f-4387-e16f-12174c158507"
      },
      "execution_count": null,
      "outputs": [
        {
          "output_type": "execute_result",
          "data": {
            "text/plain": [
              "128"
            ]
          },
          "metadata": {},
          "execution_count": 1022
        }
      ]
    },
    {
      "cell_type": "code",
      "source": [
        "(data.isna().sum() / data.shape[0]) * 100"
      ],
      "metadata": {
        "colab": {
          "base_uri": "https://localhost:8080/"
        },
        "id": "cdzd1PZRlIWD",
        "outputId": "eda61cc9-8022-40c4-d9f3-a18e9b939bf8"
      },
      "execution_count": null,
      "outputs": [
        {
          "output_type": "execute_result",
          "data": {
            "text/plain": [
              "brand                        0.000000\n",
              "model                        0.000000\n",
              "color                        0.000000\n",
              "registration_date            0.000000\n",
              "year                         0.000000\n",
              "price_in_euro                0.000000\n",
              "power_kw                     0.051020\n",
              "power_ps                     0.051020\n",
              "transmission_type            0.000000\n",
              "fuel_type                    0.000000\n",
              "fuel_consumption_l_100km    10.711496\n",
              "mileage_in_km                0.024713\n",
              "offer_description            0.000000\n",
              "dtype: float64"
            ]
          },
          "metadata": {},
          "execution_count": 1023
        }
      ]
    },
    {
      "cell_type": "code",
      "source": [
        "data = data.dropna(subset=['power_kw'])"
      ],
      "metadata": {
        "id": "Sh5TiQHSTSNm"
      },
      "execution_count": null,
      "outputs": []
    },
    {
      "cell_type": "markdown",
      "source": [
        "null values in mileage is so low it will not affect our insights later so its fine to drop them"
      ],
      "metadata": {
        "id": "Rkq83vUc53lc"
      }
    },
    {
      "cell_type": "code",
      "source": [
        "data.mileage_in_km.isnull().sum()"
      ],
      "metadata": {
        "colab": {
          "base_uri": "https://localhost:8080/"
        },
        "id": "384UsKMZlYHe",
        "outputId": "90552c04-3222-40a1-89f9-149c7f0c30ad"
      },
      "execution_count": null,
      "outputs": [
        {
          "output_type": "execute_result",
          "data": {
            "text/plain": [
              "60"
            ]
          },
          "metadata": {},
          "execution_count": 1025
        }
      ]
    },
    {
      "cell_type": "code",
      "source": [
        "data = data.dropna(subset=['mileage_in_km']) #dropping null"
      ],
      "metadata": {
        "id": "itaIRyawlkBE"
      },
      "execution_count": null,
      "outputs": []
    },
    {
      "cell_type": "code",
      "source": [
        "#removing any values not of the format l/100km\n",
        "data =data[data['fuel_consumption_l_100km'].str.contains('l/100 km', na=False) | data['fuel_consumption_l_100km'].isnull()]"
      ],
      "metadata": {
        "id": "QRFDJ_CA3yiO"
      },
      "execution_count": null,
      "outputs": []
    },
    {
      "cell_type": "code",
      "source": [
        "#i found in the unique values there is - l/100km so i  will consider them as null\n",
        "data['fuel_consumption_l_100km'] = data['fuel_consumption_l_100km'].replace('- (l/100 km)', np.nan)"
      ],
      "metadata": {
        "id": "yCFWVunT5yw4",
        "colab": {
          "base_uri": "https://localhost:8080/"
        },
        "outputId": "73b2d5ef-6c70-4a1a-c832-8c6c52c682bb"
      },
      "execution_count": null,
      "outputs": [
        {
          "output_type": "stream",
          "name": "stderr",
          "text": [
            "<ipython-input-1028-6dc3070b934b>:2: SettingWithCopyWarning: \n",
            "A value is trying to be set on a copy of a slice from a DataFrame.\n",
            "Try using .loc[row_indexer,col_indexer] = value instead\n",
            "\n",
            "See the caveats in the documentation: https://pandas.pydata.org/pandas-docs/stable/user_guide/indexing.html#returning-a-view-versus-a-copy\n",
            "  data['fuel_consumption_l_100km'] = data['fuel_consumption_l_100km'].replace('- (l/100 km)', np.nan)\n"
          ]
        }
      ]
    },
    {
      "cell_type": "code",
      "source": [
        "# now iam getting rid of the str to transform the column to float\n",
        "data['fuel_consumption_l_100km'] = data['fuel_consumption_l_100km'].str.replace('l/100 km', '')"
      ],
      "metadata": {
        "id": "tczy3-41590Q"
      },
      "execution_count": null,
      "outputs": []
    },
    {
      "cell_type": "code",
      "source": [
        "#same as the text above\n",
        "data['fuel_consumption_l_100km'] = data['fuel_consumption_l_100km'].str.replace(',', '.')"
      ],
      "metadata": {
        "id": "bcRcPEfoBdq2"
      },
      "execution_count": null,
      "outputs": []
    },
    {
      "cell_type": "code",
      "source": [
        "data.isnull().sum()"
      ],
      "metadata": {
        "colab": {
          "base_uri": "https://localhost:8080/"
        },
        "id": "7BBpjfZg8k6P",
        "outputId": "664dc2d1-aa2a-4c58-d0a1-8e07cb9917cd"
      },
      "execution_count": null,
      "outputs": [
        {
          "output_type": "execute_result",
          "data": {
            "text/plain": [
              "brand                           0\n",
              "model                           0\n",
              "color                           0\n",
              "registration_date               0\n",
              "year                            0\n",
              "price_in_euro                   0\n",
              "power_kw                        0\n",
              "power_ps                        0\n",
              "transmission_type               0\n",
              "fuel_type                       0\n",
              "fuel_consumption_l_100km    27900\n",
              "mileage_in_km                   0\n",
              "offer_description               0\n",
              "dtype: int64"
            ]
          },
          "metadata": {},
          "execution_count": 1031
        }
      ]
    },
    {
      "cell_type": "markdown",
      "source": [
        "transforming the numeric values to numeric columns"
      ],
      "metadata": {
        "id": "ad00JWg-8CiB"
      }
    },
    {
      "cell_type": "code",
      "source": [
        "data['year'] = data['year'].astype(\"i\")\n",
        "data['price_in_euro'] = data['price_in_euro'].astype(\"float\")\n",
        "data['power_ps'] = data['power_ps'].astype(\"i\")\n",
        "data['fuel_consumption_l_100km'] = data['fuel_consumption_l_100km'].astype(\"float\")\n"
      ],
      "metadata": {
        "id": "82xRUuAY8utK"
      },
      "execution_count": null,
      "outputs": []
    },
    {
      "cell_type": "code",
      "source": [
        "data.fuel_consumption_l_100km.unique()"
      ],
      "metadata": {
        "colab": {
          "base_uri": "https://localhost:8080/"
        },
        "id": "OEb_G1pwCspA",
        "outputId": "57b58e6a-c185-4e5e-c10a-32ee4f7b54f1"
      },
      "execution_count": null,
      "outputs": [
        {
          "output_type": "execute_result",
          "data": {
            "text/plain": [
              "array([1.09e+01,      nan, 9.50e+00, 7.20e+00, 8.80e+00, 1.34e+01,\n",
              "       1.10e+01, 9.20e+00, 1.11e+01, 1.17e+01, 8.40e+00, 8.20e+00,\n",
              "       8.90e+00, 1.14e+01, 8.50e+00, 8.30e+00, 7.90e+00, 8.70e+00,\n",
              "       8.10e+00, 1.22e+01, 1.20e+01, 5.80e+00, 1.00e+01, 6.70e+00,\n",
              "       8.60e+00, 1.25e+01, 9.70e+00, 1.21e+01, 8.00e+00, 7.50e+00,\n",
              "       6.20e+00, 1.32e+01, 6.00e+00, 1.24e+01, 6.80e+00, 9.40e+00,\n",
              "       6.10e+00, 5.90e+00, 1.15e+01, 1.16e+01, 7.60e+00, 5.20e+00,\n",
              "       7.10e+00, 6.90e+00, 1.23e+01, 6.50e+00, 7.70e+00, 4.60e+00,\n",
              "       4.80e+00, 4.50e+00, 5.30e+00, 6.40e+00, 4.90e+00, 6.60e+00,\n",
              "       5.50e+00, 5.40e+00, 5.60e+00, 1.68e+01, 5.70e+00, 3.50e+00,\n",
              "       4.40e+00, 4.70e+00, 4.00e+00, 4.20e+00, 7.00e+00, 4.30e+00,\n",
              "       5.10e+00, 3.40e+00, 3.90e+00, 3.80e+00, 9.00e+00, 9.80e+00,\n",
              "       1.03e+01, 7.40e+00, 7.80e+00, 6.30e+00, 1.01e+01, 5.00e+00,\n",
              "       9.30e+00, 7.30e+00, 1.08e+01, 0.00e+00, 1.18e+01, 1.30e+00,\n",
              "       1.40e+00, 9.10e+00, 9.60e+00, 1.02e+01, 1.50e+00, 1.27e+01,\n",
              "       1.65e+01, 1.47e+01, 1.67e+01, 1.88e+01, 1.46e+01, 1.78e+01,\n",
              "       1.72e+01, 1.89e+01, 1.50e+01, 1.38e+01, 1.87e+01, 1.64e+01,\n",
              "       1.56e+01, 1.82e+01, 1.80e+01, 1.40e+01, 1.49e+01, 1.39e+01,\n",
              "       1.55e+01, 1.26e+01, 1.44e+01, 1.29e+01, 1.43e+01, 1.70e+01,\n",
              "       1.28e+01, 1.31e+01, 9.90e+00, 1.05e+01, 1.42e+01, 1.35e+01,\n",
              "       1.06e+01, 1.69e+01, 1.12e+01, 1.07e+01, 1.13e+01, 1.99e+01,\n",
              "       1.04e+01, 1.37e+01, 1.19e+01, 3.20e+00, 1.45e+01, 1.48e+01,\n",
              "       1.33e+01, 1.30e+01, 1.36e+01, 4.10e+00, 3.70e+00, 3.30e+00,\n",
              "       1.70e+00, 1.90e+00, 3.60e+00, 1.80e+00, 1.60e+00, 1.00e+00,\n",
              "       2.10e+00, 2.20e+00, 2.40e+00, 2.00e+00, 3.00e+00, 2.12e+01,\n",
              "       2.70e+00, 2.60e+00, 1.94e+01, 4.00e-01, 1.92e+01, 2.06e+01,\n",
              "       1.66e+01, 1.71e+01, 1.95e+01, 1.77e+01, 1.63e+01, 1.59e+01,\n",
              "       1.41e+01, 1.41e+02, 1.57e+01, 1.62e+01, 1.52e+01, 9.90e+01,\n",
              "       6.00e-01, 2.80e+00, 1.20e+00, 2.50e+00, 2.30e+00, 6.64e+01,\n",
              "       1.90e+01, 7.30e+01, 3.80e+01, 3.10e+00, 4.50e+01, 6.20e+01,\n",
              "       1.53e+01, 2.10e+01, 2.22e+01, 2.29e+01, 2.08e+01, 1.79e+01,\n",
              "       1.91e+01, 2.18e+01, 2.07e+01, 1.83e+01, 2.13e+01, 1.75e+01,\n",
              "       1.61e+01, 1.51e+01, 8.80e+01, 6.50e+01, 6.60e+01, 1.58e+01,\n",
              "       2.20e+01, 9.99e+01, 8.54e+01, 2.90e+00, 1.10e+00, 1.19e+02,\n",
              "       5.18e+01, 4.10e+01, 5.30e+01, 8.00e-01, 6.00e+01, 5.20e+01,\n",
              "       2.15e+01, 1.60e+01, 1.96e+01, 2.01e+01, 1.84e+01, 3.14e+01,\n",
              "       9.00e-01, 1.81e+01, 1.86e+01, 2.19e+01, 1.54e+01, 1.00e-01,\n",
              "       7.00e-01, 5.00e-01, 1.52e+02, 9.84e+01, 5.90e+01, 5.70e+01,\n",
              "       1.16e+02, 1.07e+02, 1.20e+02, 1.31e+02, 1.47e+02, 1.73e+02,\n",
              "       1.32e+02, 1.30e+02, 1.38e+02, 1.34e+02, 5.60e+01, 1.33e+02,\n",
              "       1.23e+02, 1.25e+02, 1.22e+02, 1.71e+02, 5.50e+01, 4.90e+01,\n",
              "       3.00e+01, 2.60e+01, 6.10e+01, 3.60e+01, 1.46e+02, 1.43e+02,\n",
              "       2.00e-01, 2.26e+01])"
            ]
          },
          "metadata": {},
          "execution_count": 1033
        }
      ]
    },
    {
      "cell_type": "code",
      "source": [
        "data.columns"
      ],
      "metadata": {
        "colab": {
          "base_uri": "https://localhost:8080/"
        },
        "id": "NRp1uwp_QSmS",
        "outputId": "53e34626-ee32-4e5f-82ea-fb73a7aed416"
      },
      "execution_count": null,
      "outputs": [
        {
          "output_type": "execute_result",
          "data": {
            "text/plain": [
              "Index(['brand', 'model', 'color', 'registration_date', 'year', 'price_in_euro',\n",
              "       'power_kw', 'power_ps', 'transmission_type', 'fuel_type',\n",
              "       'fuel_consumption_l_100km', 'mileage_in_km', 'offer_description'],\n",
              "      dtype='object')"
            ]
          },
          "metadata": {},
          "execution_count": 1034
        }
      ]
    },
    {
      "cell_type": "markdown",
      "source": [
        "I needed to label encoder these data as i will use them fir iterative imputer for handleing with fuel consumption missing data"
      ],
      "metadata": {
        "id": "SxK8r02E8bPg"
      }
    },
    {
      "cell_type": "code",
      "source": [
        "\n",
        "le = LabelEncoder()\n",
        "\n",
        "data['model_enc'] = le.fit_transform(data['model'])\n",
        "\n",
        "data['fuel_type_enc'] = le.fit_transform(data['fuel_type'])\n",
        "\n",
        "data['transmission_type_enc'] = le.fit_transform(data['transmission_type'])\n"
      ],
      "metadata": {
        "id": "3lmHjKl-VrMs"
      },
      "execution_count": null,
      "outputs": []
    },
    {
      "cell_type": "code",
      "source": [
        "data.info()"
      ],
      "metadata": {
        "colab": {
          "base_uri": "https://localhost:8080/"
        },
        "id": "_vx5BnAkWBLZ",
        "outputId": "2a1f9912-3eca-4c29-fca5-1a317678260b"
      },
      "execution_count": null,
      "outputs": [
        {
          "output_type": "stream",
          "name": "stdout",
          "text": [
            "<class 'pandas.core.frame.DataFrame'>\n",
            "Int64Index: 249640 entries, 0 to 251078\n",
            "Data columns (total 16 columns):\n",
            " #   Column                    Non-Null Count   Dtype  \n",
            "---  ------                    --------------   -----  \n",
            " 0   brand                     249640 non-null  object \n",
            " 1   model                     249640 non-null  object \n",
            " 2   color                     249640 non-null  object \n",
            " 3   registration_date         249640 non-null  object \n",
            " 4   year                      249640 non-null  int32  \n",
            " 5   price_in_euro             249640 non-null  float64\n",
            " 6   power_kw                  249640 non-null  object \n",
            " 7   power_ps                  249640 non-null  int32  \n",
            " 8   transmission_type         249640 non-null  object \n",
            " 9   fuel_type                 249640 non-null  object \n",
            " 10  fuel_consumption_l_100km  221740 non-null  float64\n",
            " 11  mileage_in_km             249640 non-null  float64\n",
            " 12  offer_description         249640 non-null  object \n",
            " 13  model_enc                 249640 non-null  int64  \n",
            " 14  fuel_type_enc             249640 non-null  int64  \n",
            " 15  transmission_type_enc     249640 non-null  int64  \n",
            "dtypes: float64(3), int32(2), int64(3), object(8)\n",
            "memory usage: 30.5+ MB\n"
          ]
        }
      ]
    },
    {
      "cell_type": "code",
      "source": [
        "import pandas as pd\n",
        "from sklearn.experimental import enable_iterative_imputer\n",
        "from sklearn.impute import IterativeImputer\n",
        "\n",
        "\n",
        "# Getting every nuemric column including those i encoded\n",
        "numeric_columns =  data.select_dtypes(include=['int64','int32', 'float64']).columns\n",
        "\n",
        "# Subset the DataFrame with only the relevant columns\n",
        "subset_df = data[numeric_columns]\n",
        "\n",
        "# Apply iterative imputation to fill missing values in 'fuel_consumption_l_100km'\n",
        "imputer = IterativeImputer(max_iter=10, random_state=0)\n",
        "#picking number 3 in the subset_df as it represents fuel_consumption_l_100km the column i want to impute\n",
        "subset_df['fuel_consumption_l_100km'] = imputer.fit_transform(subset_df)[:,3]\n",
        "\n",
        "# Update the original DataFrame with the imputed values\n",
        "data[numeric_columns] = subset_df\n",
        "\n",
        "# Check the result\n",
        "print(data.isnull().sum())\n"
      ],
      "metadata": {
        "colab": {
          "base_uri": "https://localhost:8080/"
        },
        "id": "sZOEPOtm7XDH",
        "outputId": "bbd6f403-2f93-431f-cf4b-777dfaccec68"
      },
      "execution_count": null,
      "outputs": [
        {
          "output_type": "stream",
          "name": "stderr",
          "text": [
            "<ipython-input-1037-86dff5c3ff28>:15: SettingWithCopyWarning: \n",
            "A value is trying to be set on a copy of a slice from a DataFrame.\n",
            "Try using .loc[row_indexer,col_indexer] = value instead\n",
            "\n",
            "See the caveats in the documentation: https://pandas.pydata.org/pandas-docs/stable/user_guide/indexing.html#returning-a-view-versus-a-copy\n",
            "  subset_df['fuel_consumption_l_100km'] = imputer.fit_transform(subset_df)[:,3]\n"
          ]
        },
        {
          "output_type": "stream",
          "name": "stdout",
          "text": [
            "brand                       0\n",
            "model                       0\n",
            "color                       0\n",
            "registration_date           0\n",
            "year                        0\n",
            "price_in_euro               0\n",
            "power_kw                    0\n",
            "power_ps                    0\n",
            "transmission_type           0\n",
            "fuel_type                   0\n",
            "fuel_consumption_l_100km    0\n",
            "mileage_in_km               0\n",
            "offer_description           0\n",
            "model_enc                   0\n",
            "fuel_type_enc               0\n",
            "transmission_type_enc       0\n",
            "dtype: int64\n"
          ]
        }
      ]
    },
    {
      "cell_type": "code",
      "source": [
        "data.info()"
      ],
      "metadata": {
        "colab": {
          "base_uri": "https://localhost:8080/"
        },
        "id": "qNhwd8IoC7Ig",
        "outputId": "cea834e3-c91c-47da-d1a2-31667fb4d70f"
      },
      "execution_count": null,
      "outputs": [
        {
          "output_type": "stream",
          "name": "stdout",
          "text": [
            "<class 'pandas.core.frame.DataFrame'>\n",
            "Int64Index: 249640 entries, 0 to 251078\n",
            "Data columns (total 16 columns):\n",
            " #   Column                    Non-Null Count   Dtype  \n",
            "---  ------                    --------------   -----  \n",
            " 0   brand                     249640 non-null  object \n",
            " 1   model                     249640 non-null  object \n",
            " 2   color                     249640 non-null  object \n",
            " 3   registration_date         249640 non-null  object \n",
            " 4   year                      249640 non-null  int32  \n",
            " 5   price_in_euro             249640 non-null  float64\n",
            " 6   power_kw                  249640 non-null  object \n",
            " 7   power_ps                  249640 non-null  int32  \n",
            " 8   transmission_type         249640 non-null  object \n",
            " 9   fuel_type                 249640 non-null  object \n",
            " 10  fuel_consumption_l_100km  249640 non-null  float64\n",
            " 11  mileage_in_km             249640 non-null  float64\n",
            " 12  offer_description         249640 non-null  object \n",
            " 13  model_enc                 249640 non-null  int64  \n",
            " 14  fuel_type_enc             249640 non-null  int64  \n",
            " 15  transmission_type_enc     249640 non-null  int64  \n",
            "dtypes: float64(3), int32(2), int64(3), object(8)\n",
            "memory usage: 30.5+ MB\n"
          ]
        }
      ]
    },
    {
      "cell_type": "code",
      "source": [
        "data.year.unique()"
      ],
      "metadata": {
        "colab": {
          "base_uri": "https://localhost:8080/"
        },
        "id": "zGjxeF5rLlwk",
        "outputId": "f5326cf2-759e-41b6-c4c9-a455d6281cce"
      },
      "execution_count": null,
      "outputs": [
        {
          "output_type": "execute_result",
          "data": {
            "text/plain": [
              "array([1995, 1996, 1997, 1998, 1999, 2000, 2001, 2002, 2003, 2004, 2005,\n",
              "       2006, 2007, 2008, 2009, 2010, 2011, 2012, 2013, 2014, 2015, 2016,\n",
              "       2017, 2018, 2019, 2020, 2021, 2022, 2023], dtype=int32)"
            ]
          },
          "metadata": {},
          "execution_count": 1039
        }
      ]
    },
    {
      "cell_type": "markdown",
      "source": [],
      "metadata": {
        "id": "EkQy7-aT4Fcj"
      }
    },
    {
      "cell_type": "code",
      "source": [
        "data.fuel_consumption_l_100km.unique()"
      ],
      "metadata": {
        "colab": {
          "base_uri": "https://localhost:8080/"
        },
        "id": "RNEnXArulotP",
        "outputId": "815d5501-5bdd-4d93-ff74-9a9fe3c9e993"
      },
      "execution_count": null,
      "outputs": [
        {
          "output_type": "execute_result",
          "data": {
            "text/plain": [
              "array([10.9       , 10.41455913,  8.98419293, ...,  6.42256712,\n",
              "        5.42173607,  5.61926987])"
            ]
          },
          "metadata": {},
          "execution_count": 1040
        }
      ]
    },
    {
      "cell_type": "markdown",
      "source": [
        "# Outliers handeling"
      ],
      "metadata": {
        "id": "nqNaxuICkt8a"
      }
    },
    {
      "cell_type": "code",
      "source": [
        "data.power_ps.unique()"
      ],
      "metadata": {
        "colab": {
          "base_uri": "https://localhost:8080/"
        },
        "id": "JVnkjPS5lMIR",
        "outputId": "c6c3fa08-4b09-4b88-a556-ab0f65c4384b"
      },
      "execution_count": null,
      "outputs": [
        {
          "output_type": "execute_result",
          "data": {
            "text/plain": [
              "array([201, 260, 150, 179, 192, 220, 120, 140, 207, 155, 144, 103, 190,\n",
              "       106, 105, 250, 116, 166, 167, 165, 241, 185, 200, 252, 175, 239,\n",
              "       160, 163, 209, 182,  95,  79,  90, 450, 170, 235, 135,  84,  86,\n",
              "        69,  77, 310, 360, 280, 136, 510, 540, 131, 156, 159,  14, 129,\n",
              "       340, 332, 460, 420, 432, 469, 435, 466, 416, 476, 455, 457, 470,\n",
              "       385, 528, 426, 517, 405, 760, 496, 436, 498, 574, 572, 547, 575,\n",
              "       578, 518, 548, 560, 608, 571, 604, 602, 446, 609, 725, 551, 700,\n",
              "       707, 536, 534, 549, 639, 101, 125, 110, 299, 193, 224, 230, 265,\n",
              "       102,  75, 174, 381,  61, 320, 181, 344, 334, 262, 275, 177, 232,\n",
              "       507, 211, 256, 173, 480, 204, 306, 349, 133, 162, 326, 479, 286,\n",
              "       145, 290, 354, 143, 300, 272, 266, 408, 124, 579, 231, 245, 333,\n",
              "       364, 465, 500, 199, 390, 238, 400, 330, 371, 122, 351, 525, 271,\n",
              "       194, 117, 619, 382, 430, 419, 279, 600, 680, 313, 508, 519, 640,\n",
              "       141, 581, 411, 258, 184, 799, 370, 367, 218, 591, 247, 377, 374,\n",
              "       421, 424, 409, 570, 610, 462, 379, 311, 730, 368, 666, 223, 605,\n",
              "       305, 443, 710, 219,  82, 706, 325, 392, 708, 111,  97, 324, 329,\n",
              "       186, 736, 401, 151, 530, 850, 625, 515, 650, 347, 620, 197, 719,\n",
              "       215, 383, 503, 538, 555, 489, 449, 810, 740, 341, 598, 801, 646,\n",
              "       644, 504, 751, 318, 630, 499, 529, 389, 559, 562, 695, 537, 513,\n",
              "       582, 635, 642, 590, 659, 544, 556, 658, 321, 118, 472, 243, 277,\n",
              "       343,  15, 445, 355, 228, 268, 441, 264, 109, 234, 770, 638, 363,\n",
              "       473, 553, 415, 292, 431, 362, 451, 315, 734, 314, 397, 438, 291,\n",
              "       356, 685, 748, 545, 226, 295, 557, 461, 394, 585, 296, 254, 387,\n",
              "       532, 398, 178, 375, 523, 189, 624, 601, 714, 789, 653, 298, 352,\n",
              "       257, 269, 276, 307, 649, 417,  72,  67,  52,  68, 453, 502, 359,\n",
              "       328, 345, 288, 481, 287, 128,  73,  60,  88, 158,  98, 114,  64,\n",
              "        92,  99, 121,  83,  48,  76,   8,  87, 107,  91,  45,  26,  65,\n",
              "        94,  42,  56,  58, 396, 309, 386, 404, 717, 477, 485, 492, 373,\n",
              "       402, 808, 491, 284, 283, 294, 727, 851, 495, 711, 809, 721, 407,\n",
              "       442, 506, 566, 669, 665, 670, 741, 661, 567, 676, 775, 488, 689,\n",
              "       688, 795, 840, 999, 818, 829, 663,  54,  80, 148,  23, 213, 154,\n",
              "       113,  71,  19,  50, 137, 205, 203, 412, 662, 699, 317, 196, 303,\n",
              "       526, 589, 533, 242, 188, 126, 657, 249, 212, 744, 483, 487, 152,\n",
              "       771, 337, 253, 749, 147,  63, 132,  34,  35, 468, 922, 273, 139,\n",
              "       366,   7,  57, 782, 780,   1, 576, 339, 336, 439, 612, 514, 900,\n",
              "       564, 631, 790, 208, 261, 702, 825, 522, 597, 712, 655, 222, 956,\n",
              "       759, 621, 237, 843, 171, 216, 227, 169,  12, 521, 886, 606, 945,\n",
              "       761, 786,   5,  11,  18,  16,  22,  53,  41, 348, 428, 281, 302,\n",
              "        46, 745, 378, 454], dtype=int32)"
            ]
          },
          "metadata": {},
          "execution_count": 1041
        }
      ]
    },
    {
      "cell_type": "markdown",
      "source": [
        "From domain knowledge i will remove any power_ps(hp) lower than 1995 and 2023 should have power values within the range of 50 PS to 1000 PS i will still do outlier handleing for power_ps later"
      ],
      "metadata": {
        "id": "YxA_c3kjvqd_"
      }
    },
    {
      "cell_type": "code",
      "source": [
        "data = data[(data['power_ps'] >= 50) & (data['power_ps'] <= 1000)]"
      ],
      "metadata": {
        "id": "bcKG_5GGu5WS"
      },
      "execution_count": null,
      "outputs": []
    },
    {
      "cell_type": "code",
      "source": [
        "data.power_ps.unique()"
      ],
      "metadata": {
        "colab": {
          "base_uri": "https://localhost:8080/"
        },
        "id": "tEBa9-qZwCaz",
        "outputId": "785b7031-2f42-4367-c2ac-600198285015"
      },
      "execution_count": null,
      "outputs": [
        {
          "output_type": "execute_result",
          "data": {
            "text/plain": [
              "array([201, 260, 150, 179, 192, 220, 120, 140, 207, 155, 144, 103, 190,\n",
              "       106, 105, 250, 116, 166, 167, 165, 241, 185, 200, 252, 175, 239,\n",
              "       160, 163, 209, 182,  95,  79,  90, 450, 170, 235, 135,  84,  86,\n",
              "        69,  77, 310, 360, 280, 136, 510, 540, 131, 156, 159, 129, 340,\n",
              "       332, 460, 420, 432, 469, 435, 466, 416, 476, 455, 457, 470, 385,\n",
              "       528, 426, 517, 405, 760, 496, 436, 498, 574, 572, 547, 575, 578,\n",
              "       518, 548, 560, 608, 571, 604, 602, 446, 609, 725, 551, 700, 707,\n",
              "       536, 534, 549, 639, 101, 125, 110, 299, 193, 224, 230, 265, 102,\n",
              "        75, 174, 381,  61, 320, 181, 344, 334, 262, 275, 177, 232, 507,\n",
              "       211, 256, 173, 480, 204, 306, 349, 133, 162, 326, 479, 286, 145,\n",
              "       290, 354, 143, 300, 272, 266, 408, 124, 579, 231, 245, 333, 364,\n",
              "       465, 500, 199, 390, 238, 400, 330, 371, 122, 351, 525, 271, 194,\n",
              "       117, 619, 382, 430, 419, 279, 600, 680, 313, 508, 519, 640, 141,\n",
              "       581, 411, 258, 184, 799, 370, 367, 218, 591, 247, 377, 374, 421,\n",
              "       424, 409, 570, 610, 462, 379, 311, 730, 368, 666, 223, 605, 305,\n",
              "       443, 710, 219,  82, 706, 325, 392, 708, 111,  97, 324, 329, 186,\n",
              "       736, 401, 151, 530, 850, 625, 515, 650, 347, 620, 197, 719, 215,\n",
              "       383, 503, 538, 555, 489, 449, 810, 740, 341, 598, 801, 646, 644,\n",
              "       504, 751, 318, 630, 499, 529, 389, 559, 562, 695, 537, 513, 582,\n",
              "       635, 642, 590, 659, 544, 556, 658, 321, 118, 472, 243, 277, 343,\n",
              "       445, 355, 228, 268, 441, 264, 109, 234, 770, 638, 363, 473, 553,\n",
              "       415, 292, 431, 362, 451, 315, 734, 314, 397, 438, 291, 356, 685,\n",
              "       748, 545, 226, 295, 557, 461, 394, 585, 296, 254, 387, 532, 398,\n",
              "       178, 375, 523, 189, 624, 601, 714, 789, 653, 298, 352, 257, 269,\n",
              "       276, 307, 649, 417,  72,  67,  52,  68, 453, 502, 359, 328, 345,\n",
              "       288, 481, 287, 128,  73,  60,  88, 158,  98, 114,  64,  92,  99,\n",
              "       121,  83,  76,  87, 107,  91,  65,  94,  56,  58, 396, 309, 386,\n",
              "       404, 717, 477, 485, 492, 373, 402, 808, 491, 284, 283, 294, 727,\n",
              "       851, 495, 711, 809, 721, 407, 442, 506, 566, 669, 665, 670, 741,\n",
              "       661, 567, 676, 775, 488, 689, 688, 795, 840, 999, 818, 829, 663,\n",
              "        54,  80, 148, 213, 154, 113,  71,  50, 137, 205, 203, 412, 662,\n",
              "       699, 317, 196, 303, 526, 589, 533, 242, 188, 126, 657, 249, 212,\n",
              "       744, 483, 487, 152, 771, 337, 253, 749, 147,  63, 132, 468, 922,\n",
              "       273, 139, 366,  57, 782, 780, 576, 339, 336, 439, 612, 514, 900,\n",
              "       564, 631, 790, 208, 261, 702, 825, 522, 597, 712, 655, 222, 956,\n",
              "       759, 621, 237, 843, 171, 216, 227, 169, 521, 886, 606, 945, 761,\n",
              "       786,  53, 348, 428, 281, 302, 745, 378, 454], dtype=int32)"
            ]
          },
          "metadata": {},
          "execution_count": 1043
        }
      ]
    },
    {
      "cell_type": "markdown",
      "source": [
        "**Handeling the price in euro outliers by handeling the outliers of each brand**"
      ],
      "metadata": {
        "id": "0OhJHGJt9PLW"
      }
    },
    {
      "cell_type": "code",
      "source": [
        "sns.boxplot(x=data[\"price_in_euro\"],y=data[\"brand\"])\n"
      ],
      "metadata": {
        "colab": {
          "base_uri": "https://localhost:8080/",
          "height": 477
        },
        "id": "ZHxIpbgiXy2U",
        "outputId": "6065cd6f-2d5e-451d-df59-4430a878ade1"
      },
      "execution_count": null,
      "outputs": [
        {
          "output_type": "execute_result",
          "data": {
            "text/plain": [
              "<Axes: xlabel='price_in_euro', ylabel='brand'>"
            ]
          },
          "metadata": {},
          "execution_count": 1044
        },
        {
          "output_type": "display_data",
          "data": {
            "text/plain": [
              "<Figure size 640x480 with 1 Axes>"
            ],
            "image/png": "[encoded data removed]"
          },
          "metadata": {}
        }
      ]
    },
    {
      "cell_type": "markdown",
      "source": [
        "**iam grouping the \"brand\" and applying for each one the IQR Method of handeling outliers**"
      ],
      "metadata": {
        "id": "YLkK-h-w9cTA"
      }
    },
    {
      "cell_type": "code",
      "source": [
        "import pandas as pd\n",
        "\n",
        "# Assuming data is your DataFrame\n",
        "\n",
        "# Function to remove IQR outliers for a specific brand\n",
        "def remove_iqr_outliers_by_brand(df):\n",
        "    # Calculate the first and third quartiles for 'price_in_euro' within each brand group\n",
        "    Q1 = df['price_in_euro'].quantile(0.25)\n",
        "    Q3 = df['price_in_euro'].quantile(0.75)\n",
        "\n",
        "    # Calculate the IQR (Interquartile Range) for 'price_in_euro' within each brand group\n",
        "    IQR = Q3 - Q1\n",
        "\n",
        "    # Define lower and upper bounds for outlier detection\n",
        "    lower_bound = Q1 - 1.5 * IQR\n",
        "    upper_bound = Q3 + 1.5 * IQR\n",
        "\n",
        "    # Remove rows with values beyond the lower and upper bounds\n",
        "    df_filtered = df[(df['price_in_euro'] >= lower_bound) & (df['price_in_euro'] <= upper_bound)]\n",
        "\n",
        "    return df_filtered\n",
        "\n",
        "# Apply the function to remove IQR outliers for each brand\n",
        "data = data.groupby('brand').apply(remove_iqr_outliers_by_brand)\n",
        "\n"
      ],
      "metadata": {
        "id": "YICTsJYSmfK7"
      },
      "execution_count": null,
      "outputs": []
    },
    {
      "cell_type": "markdown",
      "source": [
        "this is the boxplot after The IQR outlier handleing"
      ],
      "metadata": {
        "id": "J-yvEx3H9wfc"
      }
    },
    {
      "cell_type": "code",
      "source": [
        "sns.boxplot(x=data[\"price_in_euro\"],y=data[\"brand\"])\n"
      ],
      "metadata": {
        "colab": {
          "base_uri": "https://localhost:8080/",
          "height": 477
        },
        "id": "EYiCThapeDfi",
        "outputId": "3dc829de-80f8-44fa-c3f2-8dfc7f4d8048"
      },
      "execution_count": null,
      "outputs": [
        {
          "output_type": "execute_result",
          "data": {
            "text/plain": [
              "<Axes: xlabel='price_in_euro', ylabel='brand'>"
            ]
          },
          "metadata": {},
          "execution_count": 1046
        },
        {
          "output_type": "display_data",
          "data": {
            "text/plain": [
              "<Figure size 640x480 with 1 Axes>"
            ],
            "image/png": "[encoded data removed]"
          },
          "metadata": {}
        }
      ]
    },
    {
      "cell_type": "markdown",
      "source": [
        "**handling the outliers in power_ps column using transmission_type**"
      ],
      "metadata": {
        "id": "tfhviyKQ92bw"
      }
    },
    {
      "cell_type": "code",
      "source": [
        "sns.boxplot(x=data[\"power_ps\"],y=data[\"transmission_type\"])\n"
      ],
      "metadata": {
        "colab": {
          "base_uri": "https://localhost:8080/",
          "height": 475
        },
        "id": "EfkSSrMLVXj9",
        "outputId": "f4c31240-511a-40ae-f9f5-26c544bebdec"
      },
      "execution_count": null,
      "outputs": [
        {
          "output_type": "execute_result",
          "data": {
            "text/plain": [
              "<Axes: xlabel='power_ps', ylabel='transmission_type'>"
            ]
          },
          "metadata": {},
          "execution_count": 1047
        },
        {
          "output_type": "display_data",
          "data": {
            "text/plain": [
              "<Figure size 640x480 with 1 Axes>"
            ],
            "image/png": "[encoded data removed]"
          },
          "metadata": {}
        }
      ]
    },
    {
      "cell_type": "code",
      "source": [
        "# Function to remove IQR outliers for a specific brand\n",
        "def remove_iqr_outliers_by_brand(df):\n",
        "    # Calculate the first and third quartiles for 'price_in_euro' within each brand group\n",
        "    Q1 = df['power_ps'].quantile(0.25)\n",
        "    Q3 = df['power_ps'].quantile(0.75)\n",
        "\n",
        "    # Calculate the IQR (Interquartile Range) for 'price_in_euro' within each brand group\n",
        "    IQR = Q3 - Q1\n",
        "\n",
        "    # Define lower and upper bounds for outlier detection\n",
        "    lower_bound = Q1 - 1.5 * IQR\n",
        "    upper_bound = Q3 + 1.5 * IQR\n",
        "\n",
        "    # Remove rows with values beyond the lower and upper bounds\n",
        "    df_filtered = df[(df['power_ps'] >= lower_bound) & (df['power_ps'] <= upper_bound)]\n",
        "\n",
        "    return df_filtered\n",
        "\n",
        "# Apply the function to remove IQR outliers for each brand\n",
        "data = data.groupby('transmission_type').apply(remove_iqr_outliers_by_brand)\n",
        "\n"
      ],
      "metadata": {
        "id": "ZtbA16nZgHFL"
      },
      "execution_count": null,
      "outputs": []
    },
    {
      "cell_type": "markdown",
      "source": [
        "after handling outliers power_ps"
      ],
      "metadata": {
        "id": "7xIHuLby-F1F"
      }
    },
    {
      "cell_type": "code",
      "source": [
        "sns.boxplot(x=data[\"power_ps\"],y=data[\"transmission_type\"])\n"
      ],
      "metadata": {
        "colab": {
          "base_uri": "https://localhost:8080/",
          "height": 475
        },
        "id": "yMtyVHragiIn",
        "outputId": "7e7c9c1a-2a5b-4441-b5a9-da32d4436b86"
      },
      "execution_count": null,
      "outputs": [
        {
          "output_type": "execute_result",
          "data": {
            "text/plain": [
              "<Axes: xlabel='power_ps', ylabel='transmission_type'>"
            ]
          },
          "metadata": {},
          "execution_count": 1049
        },
        {
          "output_type": "display_data",
          "data": {
            "text/plain": [
              "<Figure size 640x480 with 1 Axes>"
            ],
            "image/png": "[encoded data removed]"
          },
          "metadata": {}
        }
      ]
    },
    {
      "cell_type": "markdown",
      "source": [],
      "metadata": {
        "id": "sIT57d8n-NaB"
      }
    },
    {
      "cell_type": "code",
      "source": [
        "data[(data[\"transmission_type\"] ==\"Manual\")&(data[\"power_ps\"]>250)]"
      ],
      "metadata": {
        "colab": {
          "base_uri": "https://localhost:8080/",
          "height": 101
        },
        "id": "Ixmtjh9VetdR",
        "outputId": "52eaeb6c-3543-476e-c5df-4986a769663f"
      },
      "execution_count": null,
      "outputs": [
        {
          "output_type": "execute_result",
          "data": {
            "text/plain": [
              "Empty DataFrame\n",
              "Columns: [brand, model, color, registration_date, year, price_in_euro, power_kw, power_ps, transmission_type, fuel_type, fuel_consumption_l_100km, mileage_in_km, offer_description, model_enc, fuel_type_enc, transmission_type_enc]\n",
              "Index: []"
            ],
            "text/html": [
              "\n",
              "  <div id=\"df-0570170b-af3b-479a-80f3-b337067d239c\" class=\"colab-df-container\">\n",
              "    <div>\n",
              "<style scoped>\n",
              "    .dataframe tbody tr th:only-of-type {\n",
              "        vertical-align: middle;\n",
              "    }\n",
              "\n",
              "    .dataframe tbody tr th {\n",
              "        vertical-align: top;\n",
              "    }\n",
              "\n",
              "    .dataframe thead th {\n",
              "        text-align: right;\n",
              "    }\n",
              "</style>\n",
              "<table border=\"1\" class=\"dataframe\">\n",
              "  <thead>\n",
              "    <tr style=\"text-align: right;\">\n",
              "      <th></th>\n",
              "      <th></th>\n",
              "      <th></th>\n",
              "      <th>brand</th>\n",
              "      <th>model</th>\n",
              "      <th>color</th>\n",
              "      <th>registration_date</th>\n",
              "      <th>year</th>\n",
              "      <th>price_in_euro</th>\n",
              "      <th>power_kw</th>\n",
              "      <th>power_ps</th>\n",
              "      <th>transmission_type</th>\n",
              "      <th>fuel_type</th>\n",
              "      <th>fuel_consumption_l_100km</th>\n",
              "      <th>mileage_in_km</th>\n",
              "      <th>offer_description</th>\n",
              "      <th>model_enc</th>\n",
              "      <th>fuel_type_enc</th>\n",
              "      <th>transmission_type_enc</th>\n",
              "    </tr>\n",
              "    <tr>\n",
              "      <th>transmission_type</th>\n",
              "      <th>brand</th>\n",
              "      <th></th>\n",
              "      <th></th>\n",
              "      <th></th>\n",
              "      <th></th>\n",
              "      <th></th>\n",
              "      <th></th>\n",
              "      <th></th>\n",
              "      <th></th>\n",
              "      <th></th>\n",
              "      <th></th>\n",
              "      <th></th>\n",
              "      <th></th>\n",
              "      <th></th>\n",
              "      <th></th>\n",
              "      <th></th>\n",
              "      <th></th>\n",
              "      <th></th>\n",
              "    </tr>\n",
              "  </thead>\n",
              "  <tbody>\n",
              "  </tbody>\n",
              "</table>\n",
              "</div>\n",
              "    <div class=\"colab-df-buttons\">\n",
              "\n",
              "  <div class=\"colab-df-container\">\n",
              "    <button class=\"colab-df-convert\" onclick=\"convertToInteractive('df-0570170b-af3b-479a-80f3-b337067d239c')\"\n",
              "            title=\"Convert this dataframe to an interactive table.\"\n",
              "            style=\"display:none;\">\n",
              "\n",
              "  <svg xmlns=\"http://www.w3.org/2000/svg\" height=\"24px\" viewBox=\"0 -960 960 960\">\n",
              "    <path d=\"M120-120v-720h720v720H120Zm60-500h600v-160H180v160Zm220 220h160v-160H400v160Zm0 220h160v-160H400v160ZM180-400h160v-160H180v160Zm440 0h160v-160H620v160ZM180-180h160v-160H180v160Zm440 0h160v-160H620v160Z\"/>\n",
              "  </svg>\n",
              "    </button>\n",
              "\n",
              "  <style>\n",
              "    .colab-df-container {\n",
              "      display:flex;\n",
              "      gap: 12px;\n",
              "    }\n",
              "\n",
              "    .colab-df-convert {\n",
              "      background-color: #E8F0FE;\n",
              "      border: none;\n",
              "      border-radius: 50%;\n",
              "      cursor: pointer;\n",
              "      display: none;\n",
              "      fill: #1967D2;\n",
              "      height: 32px;\n",
              "      padding: 0 0 0 0;\n",
              "      width: 32px;\n",
              "    }\n",
              "\n",
              "    .colab-df-convert:hover {\n",
              "      background-color: #E2EBFA;\n",
              "      box-shadow: 0px 1px 2px rgba(60, 64, 67, 0.3), 0px 1px 3px 1px rgba(60, 64, 67, 0.15);\n",
              "      fill: #174EA6;\n",
              "    }\n",
              "\n",
              "    .colab-df-buttons div {\n",
              "      margin-bottom: 4px;\n",
              "    }\n",
              "\n",
              "    [theme=dark] .colab-df-convert {\n",
              "      background-color: #3B4455;\n",
              "      fill: #D2E3FC;\n",
              "    }\n",
              "\n",
              "    [theme=dark] .colab-df-convert:hover {\n",
              "      background-color: #434B5C;\n",
              "      box-shadow: 0px 1px 3px 1px rgba(0, 0, 0, 0.15);\n",
              "      filter: drop-shadow(0px 1px 2px rgba(0, 0, 0, 0.3));\n",
              "      fill: #FFFFFF;\n",
              "    }\n",
              "  </style>\n",
              "\n",
              "    <script>\n",
              "      const buttonEl =\n",
              "        document.querySelector('#df-0570170b-af3b-479a-80f3-b337067d239c button.colab-df-convert');\n",
              "      buttonEl.style.display =\n",
              "        google.colab.kernel.accessAllowed ? 'block' : 'none';\n",
              "\n",
              "      async function convertToInteractive(key) {\n",
              "        const element = document.querySelector('#df-0570170b-af3b-479a-80f3-b337067d239c');\n",
              "        const dataTable =\n",
              "          await google.colab.kernel.invokeFunction('convertToInteractive',\n",
              "                                                    [key], {});\n",
              "        if (!dataTable) return;\n",
              "\n",
              "        const docLinkHtml = 'Like what you see? Visit the ' +\n",
              "          '<a target=\"_blank\" href=https://colab.research.google.com/notebooks/data_table.ipynb>data table notebook</a>'\n",
              "          + ' to learn more about interactive tables.';\n",
              "        element.innerHTML = '';\n",
              "        dataTable['output_type'] = 'display_data';\n",
              "        await google.colab.output.renderOutput(dataTable, element);\n",
              "        const docLink = document.createElement('div');\n",
              "        docLink.innerHTML = docLinkHtml;\n",
              "        element.appendChild(docLink);\n",
              "      }\n",
              "    </script>\n",
              "  </div>\n",
              "\n",
              "    </div>\n",
              "  </div>\n"
            ]
          },
          "metadata": {},
          "execution_count": 1050
        }
      ]
    },
    {
      "cell_type": "code",
      "source": [
        "sns.boxplot(x=data[\"fuel_consumption_l_100km\"],y=data[\"fuel_type\"])\n"
      ],
      "metadata": {
        "colab": {
          "base_uri": "https://localhost:8080/",
          "height": 475
        },
        "id": "3wQfq_iwX0Ec",
        "outputId": "b20c961a-13cc-4787-f404-2117c57996e2"
      },
      "execution_count": null,
      "outputs": [
        {
          "output_type": "execute_result",
          "data": {
            "text/plain": [
              "<Axes: xlabel='fuel_consumption_l_100km', ylabel='fuel_type'>"
            ]
          },
          "metadata": {},
          "execution_count": 1052
        },
        {
          "output_type": "display_data",
          "data": {
            "text/plain": [
              "<Figure size 640x480 with 1 Axes>"
            ],
            "image/png": "[encoded data removed]"
          },
          "metadata": {}
        }
      ]
    },
    {
      "cell_type": "code",
      "source": [
        "# Function to remove IQR outliers for a specific brand\n",
        "def remove_iqr_outliers_by_brand(df):\n",
        "    # Calculate the first and third quartiles for 'price_in_euro' within each brand group\n",
        "    Q1 = df['fuel_consumption_l_100km'].quantile(0.25)\n",
        "    Q3 = df['fuel_consumption_l_100km'].quantile(0.75)\n",
        "\n",
        "    # Calculate the IQR (Interquartile Range) for 'price_in_euro' within each brand group\n",
        "    IQR = Q3 - Q1\n",
        "\n",
        "    # Define lower and upper bounds for outlier detection\n",
        "    lower_bound = Q1 - 1.5 * IQR\n",
        "    upper_bound = Q3 + 1.5 * IQR\n",
        "\n",
        "    # Remove rows with values beyond the lower and upper bounds\n",
        "    df_filtered = df[(df['fuel_consumption_l_100km'] >= lower_bound) & (df['fuel_consumption_l_100km'] <= upper_bound)]\n",
        "\n",
        "    return df_filtered\n",
        "\n",
        "# Apply the function to remove IQR outliers for each brand\n",
        "data = data.groupby('fuel_type').apply(remove_iqr_outliers_by_brand)\n",
        "\n"
      ],
      "metadata": {
        "id": "X4GfxgWCViHQ"
      },
      "execution_count": null,
      "outputs": []
    },
    {
      "cell_type": "code",
      "source": [
        "sns.boxplot(x=data[\"fuel_consumption_l_100km\"],y=data[\"fuel_type\"])\n"
      ],
      "metadata": {
        "colab": {
          "base_uri": "https://localhost:8080/",
          "height": 475
        },
        "id": "EnE66-3xhHMR",
        "outputId": "05f69cf9-a619-41f9-9033-f2e9c7ac3d94"
      },
      "execution_count": null,
      "outputs": [
        {
          "output_type": "execute_result",
          "data": {
            "text/plain": [
              "<Axes: xlabel='fuel_consumption_l_100km', ylabel='fuel_type'>"
            ]
          },
          "metadata": {},
          "execution_count": 1054
        },
        {
          "output_type": "display_data",
          "data": {
            "text/plain": [
              "<Figure size 640x480 with 1 Axes>"
            ],
            "image/png": "[encoded data removed]"
          },
          "metadata": {}
        }
      ]
    },
    {
      "cell_type": "markdown",
      "source": [
        "i grouped them in the index by mistake so iam reseting the index"
      ],
      "metadata": {
        "id": "Re3qCY-y-97A"
      }
    },
    {
      "cell_type": "code",
      "source": [
        "data = data.reset_index(drop=True)"
      ],
      "metadata": {
        "id": "fg73hwYedmMp"
      },
      "execution_count": null,
      "outputs": []
    },
    {
      "cell_type": "markdown",
      "source": [
        "# Research Question"
      ],
      "metadata": {
        "id": "nu3Pxik7kxKU"
      }
    },
    {
      "cell_type": "markdown",
      "source": [
        "**\"How does the 'Year' of a vehicle influence its 'Price in Euro,' and is this**\n",
        "**relationship affected by factors such as 'brand'**\n"
      ],
      "metadata": {
        "id": "zgr55-byksv5"
      }
    },
    {
      "cell_type": "code",
      "source": [
        "average_price_by_brand = data.groupby(['brand', 'year'])['price_in_euro'].mean().reset_index()\n",
        "\n",
        "top_5_brands = average_price_by_brand.groupby('brand')['price_in_euro'].mean().sort_values(ascending=False).head(10).index\n",
        "\n",
        "# Filter data for the top 10 brands\n",
        "data_top_brands = average_price_by_brand[average_price_by_brand['brand'].isin(top_5_brands)]\n",
        "\n",
        "# Line plot to show the average price trend over the years for each top brand\n",
        "plt.figure(figsize=(14, 8))\n",
        "sns.lineplot(x='year', y='price_in_euro', hue='brand', ci=None, data=data_top_brands)\n",
        "\n",
        "# Add labels and title\n",
        "plt.xlabel('Year')\n",
        "plt.ylabel('Average Price in Euro')\n",
        "plt.title('Average Price Trend Over Years for Top 10 Brands')\n",
        "\n",
        "# Display the plot\n",
        "plt.show()\n"
      ],
      "metadata": {
        "colab": {
          "base_uri": "https://localhost:8080/",
          "height": 814
        },
        "id": "2oJ0673UJP2R",
        "outputId": "a536edde-3bb1-4b5f-d6dc-929e4be13876"
      },
      "execution_count": null,
      "outputs": [
        {
          "output_type": "stream",
          "name": "stderr",
          "text": [
            "<ipython-input-1056-e1d8ff1a0f6a>:15: FutureWarning: \n",
            "\n",
            "The `ci` parameter is deprecated. Use `errorbar=None` for the same effect.\n",
            "\n",
            "  sns.lineplot(x='year', y='price_in_euro', hue='brand', ci=None, data=data_top_brands)\n"
          ]
        },
        {
          "output_type": "display_data",
          "data": {
            "text/plain": [
              "<Figure size 1400x800 with 1 Axes>"
            ],
            "image/png": "[encoded data removed]"
          },
          "metadata": {}
        }
      ]
    },
    {
      "cell_type": "markdown",
      "source": [
        "There is a positive relationship between the 'Year' of a vehicle and its 'Price in Euro.'\n",
        "As the year of the vehicle increases, the average price tends to increase. This aligns with the expectation that newer vehicles generally command higher prices.\n",
        "\n",
        "Brand Influence on Price:\n",
        "\n",
        "The analysis suggests that the 'Brand' of a vehicle influences its price.\n",
        "Porsche stands out as the brand with the highest average price. This indicates that Porsche vehicles, on average, tend to be priced higher compared to other brands in the dataset."
      ],
      "metadata": {
        "id": "XVTrLzbxYpOD"
      }
    },
    {
      "cell_type": "code",
      "source": [
        "top_5_brands = data.groupby('brand')['power_ps'].mean().sort_values(ascending=False).head(10).index\n",
        "\n",
        "# Filter data for the top 10 brands\n",
        "filtered_data = data[data['brand'].isin(top_5_brands)]\n",
        "\n",
        "# Plotting\n",
        "plt.figure(figsize=(15, 10))\n",
        "barplot = sns.barplot(x=filtered_data['brand'], y=filtered_data['power_ps'], hue=filtered_data['transmission_type'], palette='viridis')\n",
        "\n",
        "# Add labels and title\n",
        "plt.title('Effect of Transmission Type on Power (PS) Across Top 10 Brands')\n",
        "plt.xlabel('Brand')\n",
        "plt.ylabel('Power (PS)')\n",
        "plt.legend(title='Transmission Type', bbox_to_anchor=(1, 1), loc='upper left')\n",
        "plt.show()\n"
      ],
      "metadata": {
        "colab": {
          "base_uri": "https://localhost:8080/",
          "height": 881
        },
        "id": "1Cmq8GIxg_Av",
        "outputId": "6cb0a18a-0914-48bd-c4cb-71e59539ab5e"
      },
      "execution_count": null,
      "outputs": [
        {
          "output_type": "display_data",
          "data": {
            "text/plain": [
              "<Figure size 1500x1000 with 1 Axes>"
            ],
            "image/png": "[encoded data removed]"
          },
          "metadata": {}
        }
      ]
    },
    {
      "cell_type": "markdown",
      "source": [
        "Transmission Type Impact on Power Across Top 10 Car Brands:\n",
        "\n",
        "Automatic Transmission Dominance: Across the top 10 car brands, the majority of vehicles have automatic transmissions. This suggests a trend where automatic transmissions are more prevalent among these top brands.\n",
        "Variations in Power Distribution Within Each Brand:\n",
        "\n",
        " Bentley stands out as the brand with the highest average power output (in PS) among the top 10 brands. This indicates a performance-oriented approach by Bentley, potentially catering to a market segment that values higher power.\n",
        "\n",
        "Land Rover is notable for having vehicles with semi-automatic transmissions within the top 10 brands. This might reflect a specific design choice by Land Rover to offer a blend of manual control and automatic convenience in their vehicles."
      ],
      "metadata": {
        "id": "TmP2f0Xch3ij"
      }
    },
    {
      "cell_type": "markdown",
      "source": [
        "#**Final Insights**\n",
        "\n",
        "The analysis indicates a positive correlation between a vehicle's 'Year' and its 'Price in Euro,' suggesting that newer vehicles generally command higher prices.\n",
        "\n",
        "Brand significantly influences vehicle prices, with Porsche standing out for having the highest average price, indicating a premium positioning compared to other brands in the dataset.\n",
        "\n",
        "Transmission types vary across the top 10 car brands, with automatic transmissions dominating. Bentley leads in average power output, emphasizing a performance-oriented approach, while Land Rover incorporates semi-automatic transmissions, offering a blend of manual control and automatic convenience in their vehicles. These insights provide valuable market understanding and strategic considerations for both buyers and sellers in the used car market in Germany."
      ],
      "metadata": {
        "id": "vKIcGIJ1AgsG"
      }
    }
  ]
}